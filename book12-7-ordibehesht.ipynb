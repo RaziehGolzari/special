{
 "cells": [
  {
   "cell_type": "markdown",
   "id": "ad3189d2",
   "metadata": {},
   "source": [
    "6.6 Stemming Words"
   ]
  },
  {
   "cell_type": "code",
   "execution_count": 1,
   "id": "9cdcdd73",
   "metadata": {},
   "outputs": [
    {
     "data": {
      "text/plain": [
       "['i', 'am', 'humbl', 'by', 'thi', 'tradit', 'meet']"
      ]
     },
     "execution_count": 1,
     "metadata": {},
     "output_type": "execute_result"
    }
   ],
   "source": [
    "# Load library\n",
    "from nltk.stem.porter import PorterStemmer\n",
    "# Create word tokens\n",
    "tokenized_words = ['i', 'am', 'humbled', 'by', 'this', 'traditional', 'meeting']\n",
    "# Create stemmer\n",
    "porter = PorterStemmer()\n",
    "# Apply stemmer\n",
    "[porter.stem(word) for word in tokenized_words]\n"
   ]
  },
  {
   "cell_type": "markdown",
   "id": "e116e587",
   "metadata": {},
   "source": [
    "6.7 Tagging Parts of Speech"
   ]
  },
  {
   "cell_type": "code",
   "execution_count": 5,
   "id": "87e80282",
   "metadata": {},
   "outputs": [
    {
     "name": "stdout",
     "output_type": "stream",
     "text": [
      "Defaulting to user installation because normal site-packages is not writeable\n",
      "Requirement already satisfied: nltk in c:\\users\\razieh\\appdata\\local\\packages\\pythonsoftwarefoundation.python.3.12_qbz5n2kfra8p0\\localcache\\local-packages\\python312\\site-packages (3.9.1)\n",
      "Requirement already satisfied: click in c:\\users\\razieh\\appdata\\local\\packages\\pythonsoftwarefoundation.python.3.12_qbz5n2kfra8p0\\localcache\\local-packages\\python312\\site-packages (from nltk) (8.1.8)\n",
      "Requirement already satisfied: joblib in c:\\users\\razieh\\appdata\\local\\packages\\pythonsoftwarefoundation.python.3.12_qbz5n2kfra8p0\\localcache\\local-packages\\python312\\site-packages (from nltk) (1.4.2)\n",
      "Requirement already satisfied: regex>=2021.8.3 in c:\\users\\razieh\\appdata\\local\\packages\\pythonsoftwarefoundation.python.3.12_qbz5n2kfra8p0\\localcache\\local-packages\\python312\\site-packages (from nltk) (2024.11.6)\n",
      "Requirement already satisfied: tqdm in c:\\users\\razieh\\appdata\\local\\packages\\pythonsoftwarefoundation.python.3.12_qbz5n2kfra8p0\\localcache\\local-packages\\python312\\site-packages (from nltk) (4.67.1)\n",
      "Requirement already satisfied: colorama in c:\\users\\razieh\\appdata\\local\\packages\\pythonsoftwarefoundation.python.3.12_qbz5n2kfra8p0\\localcache\\local-packages\\python312\\site-packages (from click->nltk) (0.4.6)\n"
     ]
    },
    {
     "name": "stderr",
     "output_type": "stream",
     "text": [
      "\n",
      "[notice] A new release of pip is available: 25.0.1 -> 25.1\n",
      "[notice] To update, run: C:\\Users\\Razieh\\AppData\\Local\\Microsoft\\WindowsApps\\PythonSoftwareFoundation.Python.3.12_qbz5n2kfra8p0\\python.exe -m pip install --upgrade pip\n"
     ]
    }
   ],
   "source": [
    "!pip install nltk"
   ]
  },
  {
   "cell_type": "code",
   "execution_count": 7,
   "id": "134b1fac",
   "metadata": {},
   "outputs": [
    {
     "name": "stderr",
     "output_type": "stream",
     "text": [
      "[nltk_data] Downloading package punkt_tab to\n",
      "[nltk_data]     C:\\Users\\Razieh\\AppData\\Roaming\\nltk_data...\n",
      "[nltk_data]   Package punkt_tab is already up-to-date!\n",
      "[nltk_data] Downloading package averaged_perceptron_tagger_eng to\n",
      "[nltk_data]     C:\\Users\\Razieh\\AppData\\Roaming\\nltk_data...\n",
      "[nltk_data]   Unzipping taggers\\averaged_perceptron_tagger_eng.zip.\n"
     ]
    },
    {
     "data": {
      "text/plain": [
       "True"
      ]
     },
     "execution_count": 7,
     "metadata": {},
     "output_type": "execute_result"
    }
   ],
   "source": [
    "import nltk\n",
    "nltk.download('punkt_tab')\n",
    "nltk.download('averaged_perceptron_tagger_eng')"
   ]
  },
  {
   "cell_type": "code",
   "execution_count": 8,
   "id": "1c598545",
   "metadata": {},
   "outputs": [
    {
     "data": {
      "text/plain": [
       "[('Chris', 'NNP'), ('loved', 'VBD'), ('outdoor', 'RP'), ('running', 'VBG')]"
      ]
     },
     "execution_count": 8,
     "metadata": {},
     "output_type": "execute_result"
    }
   ],
   "source": [
    "# Load libraries\n",
    "from nltk import pos_tag\n",
    "from nltk import word_tokenize\n",
    "# Create text\n",
    "text_data = \"Chris loved outdoor running\"\n",
    "# Use pretrained part of speech tagger\n",
    "text_tagged = pos_tag(word_tokenize(text_data))\n",
    "# Show parts of speech\n",
    "text_tagged"
   ]
  },
  {
   "cell_type": "code",
   "execution_count": 9,
   "id": "c59ac36a",
   "metadata": {},
   "outputs": [
    {
     "data": {
      "text/plain": [
       "['Chris']"
      ]
     },
     "execution_count": 9,
     "metadata": {},
     "output_type": "execute_result"
    }
   ],
   "source": [
    "# Filter words\n",
    "[word for word, tag in text_tagged if tag in ['NN','NNS','NNP','NNPS'] ]"
   ]
  },
  {
   "cell_type": "code",
   "execution_count": 11,
   "id": "cb8e4f98",
   "metadata": {},
   "outputs": [
    {
     "data": {
      "text/plain": [
       "array([[1, 1, 0, 1, 0, 1, 1, 1, 0],\n",
       "       [1, 0, 1, 1, 0, 0, 0, 0, 1],\n",
       "       [1, 0, 1, 1, 1, 0, 0, 0, 1]])"
      ]
     },
     "execution_count": 11,
     "metadata": {},
     "output_type": "execute_result"
    }
   ],
   "source": [
    "# Import libraries\n",
    "from sklearn.preprocessing import MultiLabelBinarizer\n",
    "# Create text\n",
    "tweets = [\"I am eating a burrito for breakfast\",\n",
    "\"Political science is an amazing field\",\n",
    "\"San Francisco is an awesome city\"]\n",
    "# Create list\n",
    "tagged_tweets = []\n",
    "# Tag each word and each tweet\n",
    "for tweet in tweets:\n",
    "    tweet_tag = nltk.pos_tag(word_tokenize(tweet))\n",
    "    tagged_tweets.append([tag for word, tag in tweet_tag])\n",
    "# Use one-hot encoding to convert the tags into features\n",
    "one_hot_multi = MultiLabelBinarizer()\n",
    "one_hot_multi.fit_transform(tagged_tweets)"
   ]
  },
  {
   "cell_type": "code",
   "execution_count": 12,
   "id": "e089ea4b",
   "metadata": {},
   "outputs": [
    {
     "data": {
      "text/plain": [
       "array(['DT', 'IN', 'JJ', 'NN', 'NNP', 'PRP', 'VBG', 'VBP', 'VBZ'],\n",
       "      dtype=object)"
      ]
     },
     "execution_count": 12,
     "metadata": {},
     "output_type": "execute_result"
    }
   ],
   "source": [
    "# Show feature names\n",
    "one_hot_multi.classes_"
   ]
  },
  {
   "cell_type": "markdown",
   "id": "00ba1644",
   "metadata": {},
   "source": [
    "6.8 Performing Named-Entity Recognition"
   ]
  },
  {
   "cell_type": "code",
   "execution_count": 23,
   "id": "6fafc348",
   "metadata": {},
   "outputs": [
    {
     "name": "stderr",
     "output_type": "stream",
     "text": [
      "  WARNING: Failed to remove contents in a temporary directory 'C:\\Users\\Razieh\\AppData\\Local\\Packages\\PythonSoftwareFoundation.Python.3.12_qbz5n2kfra8p0\\LocalCache\\local-packages\\Python312\\site-packages\\~umpy.libs'.\n",
      "  You can safely remove it manually.\n",
      "  WARNING: Failed to remove contents in a temporary directory 'C:\\Users\\Razieh\\AppData\\Local\\Packages\\PythonSoftwareFoundation.Python.3.12_qbz5n2kfra8p0\\LocalCache\\local-packages\\Python312\\site-packages\\~umpy'.\n",
      "  You can safely remove it manually.\n",
      "ERROR: pip's dependency resolver does not currently take into account all the packages that are installed. This behaviour is the source of the following dependency conflicts.\n",
      "tensorflow-intel 2.18.0 requires numpy<2.1.0,>=1.26.0, but you have numpy 2.2.5 which is incompatible.\n",
      "torchvision 0.19.0 requires numpy<2, but you have numpy 2.2.5 which is incompatible.\n",
      "\n",
      "[notice] A new release of pip is available: 25.0.1 -> 25.1\n",
      "[notice] To update, run: C:\\Users\\Razieh\\AppData\\Local\\Microsoft\\WindowsApps\\PythonSoftwareFoundation.Python.3.12_qbz5n2kfra8p0\\python.exe -m pip install --upgrade pip\n"
     ]
    },
    {
     "name": "stdout",
     "output_type": "stream",
     "text": [
      "Defaulting to user installation because normal site-packages is not writeable\n",
      "Collecting spacy\n",
      "  Using cached spacy-3.8.5-cp312-cp312-win_amd64.whl.metadata (28 kB)\n",
      "Collecting spacy-legacy<3.1.0,>=3.0.11 (from spacy)\n",
      "  Using cached spacy_legacy-3.0.12-py2.py3-none-any.whl.metadata (2.8 kB)\n",
      "Collecting spacy-loggers<2.0.0,>=1.0.0 (from spacy)\n",
      "  Using cached spacy_loggers-1.0.5-py3-none-any.whl.metadata (23 kB)\n",
      "Collecting murmurhash<1.1.0,>=0.28.0 (from spacy)\n",
      "  Using cached murmurhash-1.0.12-cp312-cp312-win_amd64.whl.metadata (2.2 kB)\n",
      "Collecting cymem<2.1.0,>=2.0.2 (from spacy)\n",
      "  Using cached cymem-2.0.11-cp312-cp312-win_amd64.whl.metadata (8.8 kB)\n",
      "Collecting preshed<3.1.0,>=3.0.2 (from spacy)\n",
      "  Using cached preshed-3.0.9-cp312-cp312-win_amd64.whl.metadata (2.2 kB)\n",
      "Collecting thinc<8.4.0,>=8.3.4 (from spacy)\n",
      "  Using cached thinc-8.3.6-cp312-cp312-win_amd64.whl.metadata (15 kB)\n",
      "Collecting wasabi<1.2.0,>=0.9.1 (from spacy)\n",
      "  Using cached wasabi-1.1.3-py3-none-any.whl.metadata (28 kB)\n",
      "Collecting srsly<3.0.0,>=2.4.3 (from spacy)\n",
      "  Using cached srsly-2.5.1-cp312-cp312-win_amd64.whl.metadata (20 kB)\n",
      "Collecting catalogue<2.1.0,>=2.0.6 (from spacy)\n",
      "  Using cached catalogue-2.0.10-py3-none-any.whl.metadata (14 kB)\n",
      "Collecting weasel<0.5.0,>=0.1.0 (from spacy)\n",
      "  Using cached weasel-0.4.1-py3-none-any.whl.metadata (4.6 kB)\n",
      "Collecting typer<1.0.0,>=0.3.0 (from spacy)\n",
      "  Using cached typer-0.15.2-py3-none-any.whl.metadata (15 kB)\n",
      "Requirement already satisfied: tqdm<5.0.0,>=4.38.0 in c:\\users\\razieh\\appdata\\local\\packages\\pythonsoftwarefoundation.python.3.12_qbz5n2kfra8p0\\localcache\\local-packages\\python312\\site-packages (from spacy) (4.67.1)\n",
      "Requirement already satisfied: numpy>=1.19.0 in c:\\users\\razieh\\appdata\\local\\packages\\pythonsoftwarefoundation.python.3.12_qbz5n2kfra8p0\\localcache\\local-packages\\python312\\site-packages (from spacy) (1.26.4)\n",
      "Requirement already satisfied: requests<3.0.0,>=2.13.0 in c:\\users\\razieh\\appdata\\local\\packages\\pythonsoftwarefoundation.python.3.12_qbz5n2kfra8p0\\localcache\\local-packages\\python312\\site-packages (from spacy) (2.32.3)\n",
      "Collecting pydantic!=1.8,!=1.8.1,<3.0.0,>=1.7.4 (from spacy)\n",
      "  Using cached pydantic-2.11.3-py3-none-any.whl.metadata (65 kB)\n",
      "Requirement already satisfied: jinja2 in c:\\users\\razieh\\appdata\\local\\packages\\pythonsoftwarefoundation.python.3.12_qbz5n2kfra8p0\\localcache\\local-packages\\python312\\site-packages (from spacy) (3.1.4)\n",
      "Requirement already satisfied: setuptools in c:\\users\\razieh\\appdata\\local\\packages\\pythonsoftwarefoundation.python.3.12_qbz5n2kfra8p0\\localcache\\local-packages\\python312\\site-packages (from spacy) (73.0.1)\n",
      "Requirement already satisfied: packaging>=20.0 in c:\\users\\razieh\\appdata\\local\\packages\\pythonsoftwarefoundation.python.3.12_qbz5n2kfra8p0\\localcache\\local-packages\\python312\\site-packages (from spacy) (24.1)\n",
      "Collecting langcodes<4.0.0,>=3.2.0 (from spacy)\n",
      "  Using cached langcodes-3.5.0-py3-none-any.whl.metadata (29 kB)\n",
      "Collecting language-data>=1.2 (from langcodes<4.0.0,>=3.2.0->spacy)\n",
      "  Using cached language_data-1.3.0-py3-none-any.whl.metadata (4.3 kB)\n",
      "Collecting annotated-types>=0.6.0 (from pydantic!=1.8,!=1.8.1,<3.0.0,>=1.7.4->spacy)\n",
      "  Using cached annotated_types-0.7.0-py3-none-any.whl.metadata (15 kB)\n",
      "Collecting pydantic-core==2.33.1 (from pydantic!=1.8,!=1.8.1,<3.0.0,>=1.7.4->spacy)\n",
      "  Using cached pydantic_core-2.33.1-cp312-cp312-win_amd64.whl.metadata (6.9 kB)\n",
      "Requirement already satisfied: typing-extensions>=4.12.2 in c:\\users\\razieh\\appdata\\local\\packages\\pythonsoftwarefoundation.python.3.12_qbz5n2kfra8p0\\localcache\\local-packages\\python312\\site-packages (from pydantic!=1.8,!=1.8.1,<3.0.0,>=1.7.4->spacy) (4.12.2)\n",
      "Collecting typing-inspection>=0.4.0 (from pydantic!=1.8,!=1.8.1,<3.0.0,>=1.7.4->spacy)\n",
      "  Using cached typing_inspection-0.4.0-py3-none-any.whl.metadata (2.6 kB)\n",
      "Requirement already satisfied: charset-normalizer<4,>=2 in c:\\users\\razieh\\appdata\\local\\packages\\pythonsoftwarefoundation.python.3.12_qbz5n2kfra8p0\\localcache\\local-packages\\python312\\site-packages (from requests<3.0.0,>=2.13.0->spacy) (3.4.1)\n",
      "Requirement already satisfied: idna<4,>=2.5 in c:\\users\\razieh\\appdata\\local\\packages\\pythonsoftwarefoundation.python.3.12_qbz5n2kfra8p0\\localcache\\local-packages\\python312\\site-packages (from requests<3.0.0,>=2.13.0->spacy) (3.10)\n",
      "Requirement already satisfied: urllib3<3,>=1.21.1 in c:\\users\\razieh\\appdata\\local\\packages\\pythonsoftwarefoundation.python.3.12_qbz5n2kfra8p0\\localcache\\local-packages\\python312\\site-packages (from requests<3.0.0,>=2.13.0->spacy) (2.3.0)\n",
      "Requirement already satisfied: certifi>=2017.4.17 in c:\\users\\razieh\\appdata\\local\\packages\\pythonsoftwarefoundation.python.3.12_qbz5n2kfra8p0\\localcache\\local-packages\\python312\\site-packages (from requests<3.0.0,>=2.13.0->spacy) (2025.1.31)\n",
      "Collecting blis<1.4.0,>=1.3.0 (from thinc<8.4.0,>=8.3.4->spacy)\n",
      "  Using cached blis-1.3.0-cp312-cp312-win_amd64.whl.metadata (7.6 kB)\n",
      "Collecting confection<1.0.0,>=0.0.1 (from thinc<8.4.0,>=8.3.4->spacy)\n",
      "  Using cached confection-0.1.5-py3-none-any.whl.metadata (19 kB)\n",
      "Collecting numpy>=1.19.0 (from spacy)\n",
      "  Using cached numpy-2.2.5-cp312-cp312-win_amd64.whl.metadata (60 kB)\n",
      "Requirement already satisfied: colorama in c:\\users\\razieh\\appdata\\local\\packages\\pythonsoftwarefoundation.python.3.12_qbz5n2kfra8p0\\localcache\\local-packages\\python312\\site-packages (from tqdm<5.0.0,>=4.38.0->spacy) (0.4.6)\n",
      "Requirement already satisfied: click>=8.0.0 in c:\\users\\razieh\\appdata\\local\\packages\\pythonsoftwarefoundation.python.3.12_qbz5n2kfra8p0\\localcache\\local-packages\\python312\\site-packages (from typer<1.0.0,>=0.3.0->spacy) (8.1.8)\n",
      "Collecting shellingham>=1.3.0 (from typer<1.0.0,>=0.3.0->spacy)\n",
      "  Using cached shellingham-1.5.4-py2.py3-none-any.whl.metadata (3.5 kB)\n",
      "Requirement already satisfied: rich>=10.11.0 in c:\\users\\razieh\\appdata\\local\\packages\\pythonsoftwarefoundation.python.3.12_qbz5n2kfra8p0\\localcache\\local-packages\\python312\\site-packages (from typer<1.0.0,>=0.3.0->spacy) (13.9.4)\n",
      "Collecting cloudpathlib<1.0.0,>=0.7.0 (from weasel<0.5.0,>=0.1.0->spacy)\n",
      "  Using cached cloudpathlib-0.21.0-py3-none-any.whl.metadata (14 kB)\n",
      "Collecting smart-open<8.0.0,>=5.2.1 (from weasel<0.5.0,>=0.1.0->spacy)\n",
      "  Using cached smart_open-7.1.0-py3-none-any.whl.metadata (24 kB)\n",
      "Requirement already satisfied: MarkupSafe>=2.0 in c:\\users\\razieh\\appdata\\local\\packages\\pythonsoftwarefoundation.python.3.12_qbz5n2kfra8p0\\localcache\\local-packages\\python312\\site-packages (from jinja2->spacy) (2.1.5)\n",
      "Collecting marisa-trie>=1.1.0 (from language-data>=1.2->langcodes<4.0.0,>=3.2.0->spacy)\n",
      "  Using cached marisa_trie-1.2.1-cp312-cp312-win_amd64.whl.metadata (9.3 kB)\n",
      "Requirement already satisfied: markdown-it-py>=2.2.0 in c:\\users\\razieh\\appdata\\local\\packages\\pythonsoftwarefoundation.python.3.12_qbz5n2kfra8p0\\localcache\\local-packages\\python312\\site-packages (from rich>=10.11.0->typer<1.0.0,>=0.3.0->spacy) (3.0.0)\n",
      "Requirement already satisfied: pygments<3.0.0,>=2.13.0 in c:\\users\\razieh\\appdata\\local\\packages\\pythonsoftwarefoundation.python.3.12_qbz5n2kfra8p0\\localcache\\local-packages\\python312\\site-packages (from rich>=10.11.0->typer<1.0.0,>=0.3.0->spacy) (2.18.0)\n",
      "Requirement already satisfied: wrapt in c:\\users\\razieh\\appdata\\local\\packages\\pythonsoftwarefoundation.python.3.12_qbz5n2kfra8p0\\localcache\\local-packages\\python312\\site-packages (from smart-open<8.0.0,>=5.2.1->weasel<0.5.0,>=0.1.0->spacy) (1.17.2)\n",
      "Requirement already satisfied: mdurl~=0.1 in c:\\users\\razieh\\appdata\\local\\packages\\pythonsoftwarefoundation.python.3.12_qbz5n2kfra8p0\\localcache\\local-packages\\python312\\site-packages (from markdown-it-py>=2.2.0->rich>=10.11.0->typer<1.0.0,>=0.3.0->spacy) (0.1.2)\n",
      "Downloading spacy-3.8.5-cp312-cp312-win_amd64.whl (11.8 MB)\n",
      "   ---------------------------------------- 0.0/11.8 MB ? eta -:--:--\n",
      "   ---------------------------------------- 0.0/11.8 MB ? eta -:--:--\n",
      "   ---------------------------------------- 0.0/11.8 MB ? eta -:--:--\n",
      "    --------------------------------------- 0.3/11.8 MB ? eta -:--:--\n",
      "    --------------------------------------- 0.3/11.8 MB ? eta -:--:--\n",
      "   - -------------------------------------- 0.5/11.8 MB 645.7 kB/s eta 0:00:18\n",
      "   -- ------------------------------------- 0.8/11.8 MB 671.3 kB/s eta 0:00:17\n",
      "   -- ------------------------------------- 0.8/11.8 MB 671.3 kB/s eta 0:00:17\n",
      "   --- ------------------------------------ 1.0/11.8 MB 671.0 kB/s eta 0:00:17\n",
      "   --- ------------------------------------ 1.0/11.8 MB 671.0 kB/s eta 0:00:17\n",
      "   ---- ----------------------------------- 1.3/11.8 MB 651.7 kB/s eta 0:00:17\n",
      "   ---- ----------------------------------- 1.3/11.8 MB 651.7 kB/s eta 0:00:17\n",
      "   ----- ---------------------------------- 1.6/11.8 MB 699.0 kB/s eta 0:00:15\n",
      "   ------ --------------------------------- 1.8/11.8 MB 694.1 kB/s eta 0:00:15\n",
      "   ------ --------------------------------- 1.8/11.8 MB 694.1 kB/s eta 0:00:15\n",
      "   ------- -------------------------------- 2.1/11.8 MB 690.9 kB/s eta 0:00:15\n",
      "   ------- -------------------------------- 2.1/11.8 MB 690.9 kB/s eta 0:00:15\n",
      "   -------- ------------------------------- 2.4/11.8 MB 717.7 kB/s eta 0:00:14\n",
      "   -------- ------------------------------- 2.6/11.8 MB 743.8 kB/s eta 0:00:13\n",
      "   ---------- ----------------------------- 3.1/11.8 MB 816.6 kB/s eta 0:00:11\n",
      "   ----------- ---------------------------- 3.4/11.8 MB 845.9 kB/s eta 0:00:10\n",
      "   ----------- ---------------------------- 3.4/11.8 MB 845.9 kB/s eta 0:00:10\n",
      "   ------------- -------------------------- 3.9/11.8 MB 879.7 kB/s eta 0:00:09\n",
      "   -------------- ------------------------- 4.2/11.8 MB 889.2 kB/s eta 0:00:09\n",
      "   --------------- ------------------------ 4.5/11.8 MB 916.2 kB/s eta 0:00:09\n",
      "   --------------- ------------------------ 4.5/11.8 MB 916.2 kB/s eta 0:00:09\n",
      "   ---------------- ----------------------- 5.0/11.8 MB 937.9 kB/s eta 0:00:08\n",
      "   ---------------- ----------------------- 5.0/11.8 MB 937.9 kB/s eta 0:00:08\n",
      "   ------------------ --------------------- 5.5/11.8 MB 964.1 kB/s eta 0:00:07\n",
      "   ------------------- -------------------- 5.8/11.8 MB 981.5 kB/s eta 0:00:07\n",
      "   -------------------- ------------------- 6.0/11.8 MB 1.0 MB/s eta 0:00:06\n",
      "   --------------------- ------------------ 6.3/11.8 MB 1.0 MB/s eta 0:00:06\n",
      "   ----------------------- ---------------- 6.8/11.8 MB 1.0 MB/s eta 0:00:05\n",
      "   ----------------------- ---------------- 6.8/11.8 MB 1.0 MB/s eta 0:00:05\n",
      "   ------------------------ --------------- 7.1/11.8 MB 1.0 MB/s eta 0:00:05\n",
      "   ------------------------ --------------- 7.1/11.8 MB 1.0 MB/s eta 0:00:05\n",
      "   ------------------------ --------------- 7.1/11.8 MB 1.0 MB/s eta 0:00:05\n",
      "   ------------------------ --------------- 7.1/11.8 MB 1.0 MB/s eta 0:00:05\n",
      "   ------------------------- -------------- 7.6/11.8 MB 976.6 kB/s eta 0:00:05\n",
      "   -------------------------- ------------- 7.9/11.8 MB 1.0 MB/s eta 0:00:04\n",
      "   -------------------------- ------------- 7.9/11.8 MB 1.0 MB/s eta 0:00:04\n",
      "   --------------------------- ------------ 8.1/11.8 MB 983.0 kB/s eta 0:00:04\n",
      "   ---------------------------- ----------- 8.4/11.8 MB 983.1 kB/s eta 0:00:04\n",
      "   ----------------------------- ---------- 8.7/11.8 MB 981.5 kB/s eta 0:00:04\n",
      "   ------------------------------ --------- 8.9/11.8 MB 986.9 kB/s eta 0:00:03\n",
      "   ------------------------------- -------- 9.2/11.8 MB 990.3 kB/s eta 0:00:03\n",
      "   ------------------------------- -------- 9.2/11.8 MB 990.3 kB/s eta 0:00:03\n",
      "   -------------------------------- ------- 9.4/11.8 MB 981.9 kB/s eta 0:00:03\n",
      "   -------------------------------- ------- 9.4/11.8 MB 981.9 kB/s eta 0:00:03\n",
      "   -------------------------------- ------- 9.7/11.8 MB 977.3 kB/s eta 0:00:03\n",
      "   --------------------------------- ------ 10.0/11.8 MB 977.6 kB/s eta 0:00:02\n",
      "   ---------------------------------- ----- 10.2/11.8 MB 979.3 kB/s eta 0:00:02\n",
      "   ---------------------------------- ----- 10.2/11.8 MB 979.3 kB/s eta 0:00:02\n",
      "   ----------------------------------- ---- 10.5/11.8 MB 973.7 kB/s eta 0:00:02\n",
      "   ------------------------------------ --- 10.7/11.8 MB 972.6 kB/s eta 0:00:02\n",
      "   ------------------------------------- -- 11.0/11.8 MB 975.7 kB/s eta 0:00:01\n",
      "   -------------------------------------- - 11.3/11.8 MB 982.8 kB/s eta 0:00:01\n",
      "   ---------------------------------------  11.5/11.8 MB 986.9 kB/s eta 0:00:01\n",
      "   ---------------------------------------  11.5/11.8 MB 986.9 kB/s eta 0:00:01\n",
      "   ---------------------------------------  11.5/11.8 MB 986.9 kB/s eta 0:00:01\n",
      "   ---------------------------------------- 11.8/11.8 MB 949.8 kB/s eta 0:00:00\n",
      "Downloading catalogue-2.0.10-py3-none-any.whl (17 kB)\n",
      "Downloading cymem-2.0.11-cp312-cp312-win_amd64.whl (39 kB)\n",
      "Downloading langcodes-3.5.0-py3-none-any.whl (182 kB)\n",
      "Downloading murmurhash-1.0.12-cp312-cp312-win_amd64.whl (25 kB)\n",
      "Downloading preshed-3.0.9-cp312-cp312-win_amd64.whl (122 kB)\n",
      "Downloading pydantic-2.11.3-py3-none-any.whl (443 kB)\n",
      "Downloading pydantic_core-2.33.1-cp312-cp312-win_amd64.whl (2.0 MB)\n",
      "   ---------------------------------------- 0.0/2.0 MB ? eta -:--:--\n",
      "   ---------------------------------------- 0.0/2.0 MB ? eta -:--:--\n",
      "   ---------------------------------------- 0.0/2.0 MB ? eta -:--:--\n",
      "   ----- ---------------------------------- 0.3/2.0 MB ? eta -:--:--\n",
      "   ---------- ----------------------------- 0.5/2.0 MB 728.2 kB/s eta 0:00:02\n",
      "   ---------- ----------------------------- 0.5/2.0 MB 728.2 kB/s eta 0:00:02\n",
      "   ---------- ----------------------------- 0.5/2.0 MB 728.2 kB/s eta 0:00:02\n",
      "   ---------------- ----------------------- 0.8/2.0 MB 599.2 kB/s eta 0:00:02\n",
      "   ---------------- ----------------------- 0.8/2.0 MB 599.2 kB/s eta 0:00:02\n",
      "   ---------------- ----------------------- 0.8/2.0 MB 599.2 kB/s eta 0:00:02\n",
      "   ---------------- ----------------------- 0.8/2.0 MB 599.2 kB/s eta 0:00:02\n",
      "   --------------------- ------------------ 1.0/2.0 MB 449.4 kB/s eta 0:00:03\n",
      "   -------------------------- ------------- 1.3/2.0 MB 516.3 kB/s eta 0:00:02\n",
      "   -------------------------------- ------- 1.6/2.0 MB 586.5 kB/s eta 0:00:01\n",
      "   -------------------------------- ------- 1.6/2.0 MB 586.5 kB/s eta 0:00:01\n",
      "   ------------------------------------- -- 1.8/2.0 MB 588.6 kB/s eta 0:00:01\n",
      "   ---------------------------------------- 2.0/2.0 MB 609.4 kB/s eta 0:00:00\n",
      "Downloading spacy_legacy-3.0.12-py2.py3-none-any.whl (29 kB)\n",
      "Downloading spacy_loggers-1.0.5-py3-none-any.whl (22 kB)\n",
      "Downloading srsly-2.5.1-cp312-cp312-win_amd64.whl (632 kB)\n",
      "   ---------------------------------------- 0.0/632.6 kB ? eta -:--:--\n",
      "   ---------------------------------------- 0.0/632.6 kB ? eta -:--:--\n",
      "   ---------------- ----------------------- 262.1/632.6 kB ? eta -:--:--\n",
      "   ---------------- ----------------------- 262.1/632.6 kB ? eta -:--:--\n",
      "   ---------------- ----------------------- 262.1/632.6 kB ? eta -:--:--\n",
      "   ---------------- ----------------------- 262.1/632.6 kB ? eta -:--:--\n",
      "   ---------------- ----------------------- 262.1/632.6 kB ? eta -:--:--\n",
      "   -------------------------------------- 632.6/632.6 kB 388.7 kB/s eta 0:00:00\n",
      "Downloading thinc-8.3.6-cp312-cp312-win_amd64.whl (1.7 MB)\n",
      "   ---------------------------------------- 0.0/1.7 MB ? eta -:--:--\n",
      "   ---------------------------------------- 0.0/1.7 MB ? eta -:--:--\n",
      "   ---------------------------------------- 0.0/1.7 MB ? eta -:--:--\n",
      "   ---------------------------------------- 0.0/1.7 MB ? eta -:--:--\n",
      "   ---------------------------------------- 0.0/1.7 MB ? eta -:--:--\n",
      "   ---------------------------------------- 0.0/1.7 MB ? eta -:--:--\n",
      "   ----- ---------------------------------- 0.3/1.7 MB ? eta -:--:--\n",
      "   ----- ---------------------------------- 0.3/1.7 MB ? eta -:--:--\n",
      "   ----- ---------------------------------- 0.3/1.7 MB ? eta -:--:--\n",
      "   ----- ---------------------------------- 0.3/1.7 MB ? eta -:--:--\n",
      "   ----- ---------------------------------- 0.3/1.7 MB ? eta -:--:--\n",
      "   ----- ---------------------------------- 0.3/1.7 MB ? eta -:--:--\n",
      "   ----------- ---------------------------- 0.5/1.7 MB 195.0 kB/s eta 0:00:07\n",
      "   ----------- ---------------------------- 0.5/1.7 MB 195.0 kB/s eta 0:00:07\n",
      "   ----------- ---------------------------- 0.5/1.7 MB 195.0 kB/s eta 0:00:07\n",
      "   ----------- ---------------------------- 0.5/1.7 MB 195.0 kB/s eta 0:00:07\n",
      "   ----------------- ---------------------- 0.8/1.7 MB 256.1 kB/s eta 0:00:04\n",
      "   ----------------- ---------------------- 0.8/1.7 MB 256.1 kB/s eta 0:00:04\n",
      "   ----------------- ---------------------- 0.8/1.7 MB 256.1 kB/s eta 0:00:04\n",
      "   ----------------------- ---------------- 1.0/1.7 MB 278.0 kB/s eta 0:00:03\n",
      "   ----------------------- ---------------- 1.0/1.7 MB 278.0 kB/s eta 0:00:03\n",
      "   ----------------------------- ---------- 1.3/1.7 MB 321.1 kB/s eta 0:00:02\n",
      "   ----------------------------- ---------- 1.3/1.7 MB 321.1 kB/s eta 0:00:02\n",
      "   ----------------------------- ---------- 1.3/1.7 MB 321.1 kB/s eta 0:00:02\n",
      "   ----------------------------------- ---- 1.6/1.7 MB 349.5 kB/s eta 0:00:01\n",
      "   ---------------------------------------- 1.7/1.7 MB 363.2 kB/s eta 0:00:00\n",
      "Downloading numpy-2.2.5-cp312-cp312-win_amd64.whl (12.6 MB)\n",
      "   ---------------------------------------- 0.0/12.6 MB ? eta -:--:--\n",
      "   ---------------------------------------- 0.0/12.6 MB ? eta -:--:--\n",
      "    --------------------------------------- 0.3/12.6 MB ? eta -:--:--\n",
      "    --------------------------------------- 0.3/12.6 MB ? eta -:--:--\n",
      "    --------------------------------------- 0.3/12.6 MB ? eta -:--:--\n",
      "    --------------------------------------- 0.3/12.6 MB ? eta -:--:--\n",
      "    --------------------------------------- 0.3/12.6 MB ? eta -:--:--\n",
      "   - -------------------------------------- 0.5/12.6 MB 305.2 kB/s eta 0:00:40\n",
      "   - -------------------------------------- 0.5/12.6 MB 305.2 kB/s eta 0:00:40\n",
      "   - -------------------------------------- 0.5/12.6 MB 305.2 kB/s eta 0:00:40\n",
      "   - -------------------------------------- 0.5/12.6 MB 305.2 kB/s eta 0:00:40\n",
      "   - -------------------------------------- 0.5/12.6 MB 305.2 kB/s eta 0:00:40\n",
      "   - -------------------------------------- 0.5/12.6 MB 305.2 kB/s eta 0:00:40\n",
      "   -- ------------------------------------- 0.8/12.6 MB 241.4 kB/s eta 0:00:50\n",
      "   -- ------------------------------------- 0.8/12.6 MB 241.4 kB/s eta 0:00:50\n",
      "   -- ------------------------------------- 0.8/12.6 MB 241.4 kB/s eta 0:00:50\n",
      "   -- ------------------------------------- 0.8/12.6 MB 241.4 kB/s eta 0:00:50\n",
      "   -- ------------------------------------- 0.8/12.6 MB 241.4 kB/s eta 0:00:50\n",
      "   -- ------------------------------------- 0.8/12.6 MB 241.4 kB/s eta 0:00:50\n",
      "   --- ------------------------------------ 1.0/12.6 MB 228.7 kB/s eta 0:00:51\n",
      "   --- ------------------------------------ 1.0/12.6 MB 228.7 kB/s eta 0:00:51\n",
      "   --- ------------------------------------ 1.0/12.6 MB 228.7 kB/s eta 0:00:51\n",
      "   --- ------------------------------------ 1.0/12.6 MB 228.7 kB/s eta 0:00:51\n",
      "   --- ------------------------------------ 1.0/12.6 MB 228.7 kB/s eta 0:00:51\n",
      "   --- ------------------------------------ 1.0/12.6 MB 228.7 kB/s eta 0:00:51\n",
      "   ---- ----------------------------------- 1.3/12.6 MB 225.2 kB/s eta 0:00:51\n",
      "   ---- ----------------------------------- 1.3/12.6 MB 225.2 kB/s eta 0:00:51\n",
      "   ---- ----------------------------------- 1.6/12.6 MB 254.2 kB/s eta 0:00:44\n",
      "   ---- ----------------------------------- 1.6/12.6 MB 254.2 kB/s eta 0:00:44\n",
      "   ----- ---------------------------------- 1.8/12.6 MB 284.4 kB/s eta 0:00:39\n",
      "   ----- ---------------------------------- 1.8/12.6 MB 284.4 kB/s eta 0:00:39\n",
      "   ------ --------------------------------- 2.1/12.6 MB 308.2 kB/s eta 0:00:35\n",
      "   ------ --------------------------------- 2.1/12.6 MB 308.2 kB/s eta 0:00:35\n",
      "   ------- -------------------------------- 2.4/12.6 MB 325.7 kB/s eta 0:00:32\n",
      "   ------- -------------------------------- 2.4/12.6 MB 325.7 kB/s eta 0:00:32\n",
      "   ------- -------------------------------- 2.4/12.6 MB 325.7 kB/s eta 0:00:32\n",
      "   ------- -------------------------------- 2.4/12.6 MB 325.7 kB/s eta 0:00:32\n",
      "   ------- -------------------------------- 2.4/12.6 MB 325.7 kB/s eta 0:00:32\n",
      "   ------- -------------------------------- 2.4/12.6 MB 325.7 kB/s eta 0:00:32\n",
      "   -------- ------------------------------- 2.6/12.6 MB 310.7 kB/s eta 0:00:33\n",
      "   --------- ------------------------------ 2.9/12.6 MB 336.2 kB/s eta 0:00:30\n",
      "   --------- ------------------------------ 3.1/12.6 MB 357.0 kB/s eta 0:00:27\n",
      "   --------- ------------------------------ 3.1/12.6 MB 357.0 kB/s eta 0:00:27\n",
      "   ---------- ----------------------------- 3.4/12.6 MB 368.7 kB/s eta 0:00:26\n",
      "   ---------- ----------------------------- 3.4/12.6 MB 368.7 kB/s eta 0:00:26\n",
      "   ----------- ---------------------------- 3.7/12.6 MB 379.3 kB/s eta 0:00:24\n",
      "   ----------- ---------------------------- 3.7/12.6 MB 379.3 kB/s eta 0:00:24\n",
      "   ------------ --------------------------- 3.9/12.6 MB 390.8 kB/s eta 0:00:23\n",
      "   ------------ --------------------------- 3.9/12.6 MB 390.8 kB/s eta 0:00:23\n",
      "   ------------- -------------------------- 4.2/12.6 MB 401.4 kB/s eta 0:00:22\n",
      "   ------------- -------------------------- 4.2/12.6 MB 401.4 kB/s eta 0:00:22\n",
      "   -------------- ------------------------- 4.5/12.6 MB 409.8 kB/s eta 0:00:20\n",
      "   -------------- ------------------------- 4.5/12.6 MB 409.8 kB/s eta 0:00:20\n",
      "   -------------- ------------------------- 4.5/12.6 MB 409.8 kB/s eta 0:00:20\n",
      "   -------------- ------------------------- 4.5/12.6 MB 409.8 kB/s eta 0:00:20\n",
      "   -------------- ------------------------- 4.5/12.6 MB 409.8 kB/s eta 0:00:20\n",
      "   -------------- ------------------------- 4.5/12.6 MB 409.8 kB/s eta 0:00:20\n",
      "   -------------- ------------------------- 4.5/12.6 MB 409.8 kB/s eta 0:00:20\n",
      "   -------------- ------------------------- 4.5/12.6 MB 409.8 kB/s eta 0:00:20\n",
      "   -------------- ------------------------- 4.7/12.6 MB 378.8 kB/s eta 0:00:21\n",
      "   -------------- ------------------------- 4.7/12.6 MB 378.8 kB/s eta 0:00:21\n",
      "   -------------- ------------------------- 4.7/12.6 MB 378.8 kB/s eta 0:00:21\n",
      "   -------------- ------------------------- 4.7/12.6 MB 378.8 kB/s eta 0:00:21\n",
      "   -------------- ------------------------- 4.7/12.6 MB 378.8 kB/s eta 0:00:21\n",
      "   --------------- ------------------------ 5.0/12.6 MB 364.7 kB/s eta 0:00:22\n",
      "   --------------- ------------------------ 5.0/12.6 MB 364.7 kB/s eta 0:00:22\n",
      "   --------------- ------------------------ 5.0/12.6 MB 364.7 kB/s eta 0:00:22\n",
      "   --------------- ------------------------ 5.0/12.6 MB 364.7 kB/s eta 0:00:22\n",
      "   --------------- ------------------------ 5.0/12.6 MB 364.7 kB/s eta 0:00:22\n",
      "   --------------- ------------------------ 5.0/12.6 MB 364.7 kB/s eta 0:00:22\n",
      "   ---------------- ----------------------- 5.2/12.6 MB 351.4 kB/s eta 0:00:22\n",
      "   ---------------- ----------------------- 5.2/12.6 MB 351.4 kB/s eta 0:00:22\n",
      "   ---------------- ----------------------- 5.2/12.6 MB 351.4 kB/s eta 0:00:22\n",
      "   ---------------- ----------------------- 5.2/12.6 MB 351.4 kB/s eta 0:00:22\n",
      "   ----------------- ---------------------- 5.5/12.6 MB 346.6 kB/s eta 0:00:21\n",
      "   ----------------- ---------------------- 5.5/12.6 MB 346.6 kB/s eta 0:00:21\n",
      "   ----------------- ---------------------- 5.5/12.6 MB 346.6 kB/s eta 0:00:21\n",
      "   ----------------- ---------------------- 5.5/12.6 MB 346.6 kB/s eta 0:00:21\n",
      "   ----------------- ---------------------- 5.5/12.6 MB 346.6 kB/s eta 0:00:21\n",
      "   ----------------- ---------------------- 5.5/12.6 MB 346.6 kB/s eta 0:00:21\n",
      "   ------------------ --------------------- 5.8/12.6 MB 339.1 kB/s eta 0:00:21\n",
      "   ------------------ --------------------- 5.8/12.6 MB 339.1 kB/s eta 0:00:21\n",
      "   ------------------ --------------------- 5.8/12.6 MB 339.1 kB/s eta 0:00:21\n",
      "   ------------------ --------------------- 5.8/12.6 MB 339.1 kB/s eta 0:00:21\n",
      "   ------------------ --------------------- 5.8/12.6 MB 339.1 kB/s eta 0:00:21\n",
      "   ------------------- -------------------- 6.0/12.6 MB 333.7 kB/s eta 0:00:20\n",
      "   ------------------- -------------------- 6.0/12.6 MB 333.7 kB/s eta 0:00:20\n",
      "   ------------------- -------------------- 6.0/12.6 MB 333.7 kB/s eta 0:00:20\n",
      "   ------------------- -------------------- 6.3/12.6 MB 335.8 kB/s eta 0:00:19\n",
      "   ------------------- -------------------- 6.3/12.6 MB 335.8 kB/s eta 0:00:19\n",
      "   ------------------- -------------------- 6.3/12.6 MB 335.8 kB/s eta 0:00:19\n",
      "   ------------------- -------------------- 6.3/12.6 MB 335.8 kB/s eta 0:00:19\n",
      "   -------------------- ------------------- 6.6/12.6 MB 336.4 kB/s eta 0:00:19\n",
      "   -------------------- ------------------- 6.6/12.6 MB 336.4 kB/s eta 0:00:19\n",
      "   --------------------- ------------------ 6.8/12.6 MB 341.0 kB/s eta 0:00:18\n",
      "   --------------------- ------------------ 6.8/12.6 MB 341.0 kB/s eta 0:00:18\n",
      "   ---------------------- ----------------- 7.1/12.6 MB 346.2 kB/s eta 0:00:17\n",
      "   ---------------------- ----------------- 7.1/12.6 MB 346.2 kB/s eta 0:00:17\n",
      "   ----------------------- ---------------- 7.3/12.6 MB 352.0 kB/s eta 0:00:16\n",
      "   ----------------------- ---------------- 7.3/12.6 MB 352.0 kB/s eta 0:00:16\n",
      "   ------------------------ --------------- 7.6/12.6 MB 360.2 kB/s eta 0:00:15\n",
      "   ------------------------ --------------- 7.9/12.6 MB 366.9 kB/s eta 0:00:14\n",
      "   ------------------------ --------------- 7.9/12.6 MB 366.9 kB/s eta 0:00:14\n",
      "   ------------------------- -------------- 8.1/12.6 MB 372.0 kB/s eta 0:00:13\n",
      "   ------------------------- -------------- 8.1/12.6 MB 372.0 kB/s eta 0:00:13\n",
      "   -------------------------- ------------- 8.4/12.6 MB 379.4 kB/s eta 0:00:12\n",
      "   -------------------------- ------------- 8.4/12.6 MB 379.4 kB/s eta 0:00:12\n",
      "   --------------------------- ------------ 8.7/12.6 MB 383.8 kB/s eta 0:00:11\n",
      "   ---------------------------- ----------- 8.9/12.6 MB 390.7 kB/s eta 0:00:10\n",
      "   ---------------------------- ----------- 8.9/12.6 MB 390.7 kB/s eta 0:00:10\n",
      "   ----------------------------- ---------- 9.2/12.6 MB 395.6 kB/s eta 0:00:09\n",
      "   ----------------------------- ---------- 9.4/12.6 MB 401.4 kB/s eta 0:00:08\n",
      "   ----------------------------- ---------- 9.4/12.6 MB 401.4 kB/s eta 0:00:08\n",
      "   ------------------------------ --------- 9.7/12.6 MB 408.6 kB/s eta 0:00:08\n",
      "   ------------------------------- -------- 10.0/12.6 MB 413.3 kB/s eta 0:00:07\n",
      "   ------------------------------- -------- 10.0/12.6 MB 413.3 kB/s eta 0:00:07\n",
      "   -------------------------------- ------- 10.2/12.6 MB 417.8 kB/s eta 0:00:06\n",
      "   -------------------------------- ------- 10.2/12.6 MB 417.8 kB/s eta 0:00:06\n",
      "   --------------------------------- ------ 10.5/12.6 MB 421.6 kB/s eta 0:00:06\n",
      "   --------------------------------- ------ 10.5/12.6 MB 421.6 kB/s eta 0:00:06\n",
      "   --------------------------------- ------ 10.7/12.6 MB 424.5 kB/s eta 0:00:05\n",
      "   --------------------------------- ------ 10.7/12.6 MB 424.5 kB/s eta 0:00:05\n",
      "   --------------------------------- ------ 10.7/12.6 MB 424.5 kB/s eta 0:00:05\n",
      "   --------------------------------- ------ 10.7/12.6 MB 424.5 kB/s eta 0:00:05\n",
      "   --------------------------------- ------ 10.7/12.6 MB 424.5 kB/s eta 0:00:05\n",
      "   ---------------------------------- ----- 11.0/12.6 MB 418.2 kB/s eta 0:00:04\n",
      "   ---------------------------------- ----- 11.0/12.6 MB 418.2 kB/s eta 0:00:04\n",
      "   ---------------------------------- ----- 11.0/12.6 MB 418.2 kB/s eta 0:00:04\n",
      "   ----------------------------------- ---- 11.3/12.6 MB 417.9 kB/s eta 0:00:04\n",
      "   ------------------------------------ --- 11.5/12.6 MB 423.1 kB/s eta 0:00:03\n",
      "   ------------------------------------ --- 11.5/12.6 MB 423.1 kB/s eta 0:00:03\n",
      "   ------------------------------------- -- 11.8/12.6 MB 427.9 kB/s eta 0:00:02\n",
      "   ------------------------------------- -- 11.8/12.6 MB 427.9 kB/s eta 0:00:02\n",
      "   -------------------------------------- - 12.1/12.6 MB 432.2 kB/s eta 0:00:02\n",
      "   -------------------------------------- - 12.1/12.6 MB 432.2 kB/s eta 0:00:02\n",
      "   -------------------------------------- - 12.3/12.6 MB 435.0 kB/s eta 0:00:01\n",
      "   -------------------------------------- - 12.3/12.6 MB 435.0 kB/s eta 0:00:01\n",
      "   -------------------------------------- - 12.3/12.6 MB 435.0 kB/s eta 0:00:01\n",
      "   ---------------------------------------  12.6/12.6 MB 433.0 kB/s eta 0:00:01\n",
      "   ---------------------------------------- 12.6/12.6 MB 434.0 kB/s eta 0:00:00\n",
      "Downloading typer-0.15.2-py3-none-any.whl (45 kB)\n",
      "Downloading wasabi-1.1.3-py3-none-any.whl (27 kB)\n",
      "Downloading weasel-0.4.1-py3-none-any.whl (50 kB)\n",
      "Using cached annotated_types-0.7.0-py3-none-any.whl (13 kB)\n",
      "Downloading blis-1.3.0-cp312-cp312-win_amd64.whl (6.3 MB)\n",
      "   ---------------------------------------- 0.0/6.3 MB ? eta -:--:--\n",
      "   ---------------------------------------- 0.0/6.3 MB ? eta -:--:--\n",
      "   ---------------------------------------- 0.0/6.3 MB ? eta -:--:--\n",
      "   ---------------------------------------- 0.0/6.3 MB ? eta -:--:--\n",
      "   ---------------------------------------- 0.0/6.3 MB ? eta -:--:--\n",
      "   ---------------------------------------- 0.0/6.3 MB ? eta -:--:--\n",
      "   ---------------------------------------- 0.0/6.3 MB ? eta -:--:--\n",
      "   ---------------------------------------- 0.0/6.3 MB ? eta -:--:--\n",
      "   ---------------------------------------- 0.0/6.3 MB ? eta -:--:--\n",
      "   ---------------------------------------- 0.0/6.3 MB ? eta -:--:--\n",
      "   - -------------------------------------- 0.3/6.3 MB ? eta -:--:--\n",
      "   --- ------------------------------------ 0.5/6.3 MB 1.0 MB/s eta 0:00:06\n",
      "   --- ------------------------------------ 0.5/6.3 MB 1.0 MB/s eta 0:00:06\n",
      "   --- ------------------------------------ 0.5/6.3 MB 1.0 MB/s eta 0:00:06\n",
      "   --- ------------------------------------ 0.5/6.3 MB 1.0 MB/s eta 0:00:06\n",
      "   --- ------------------------------------ 0.5/6.3 MB 1.0 MB/s eta 0:00:06\n",
      "   --- ------------------------------------ 0.5/6.3 MB 1.0 MB/s eta 0:00:06\n",
      "   ----- ---------------------------------- 0.8/6.3 MB 360.8 kB/s eta 0:00:16\n",
      "   ----- ---------------------------------- 0.8/6.3 MB 360.8 kB/s eta 0:00:16\n",
      "   ----- ---------------------------------- 0.8/6.3 MB 360.8 kB/s eta 0:00:16\n",
      "   ----- ---------------------------------- 0.8/6.3 MB 360.8 kB/s eta 0:00:16\n",
      "   ----- ---------------------------------- 0.8/6.3 MB 360.8 kB/s eta 0:00:16\n",
      "   ----- ---------------------------------- 0.8/6.3 MB 360.8 kB/s eta 0:00:16\n",
      "   ----- ---------------------------------- 0.8/6.3 MB 360.8 kB/s eta 0:00:16\n",
      "   ----- ---------------------------------- 0.8/6.3 MB 360.8 kB/s eta 0:00:16\n",
      "   ----- ---------------------------------- 0.8/6.3 MB 360.8 kB/s eta 0:00:16\n",
      "   ----- ---------------------------------- 0.8/6.3 MB 360.8 kB/s eta 0:00:16\n",
      "   ----- ---------------------------------- 0.8/6.3 MB 360.8 kB/s eta 0:00:16\n",
      "   ----- ---------------------------------- 0.8/6.3 MB 360.8 kB/s eta 0:00:16\n",
      "   ----- ---------------------------------- 0.8/6.3 MB 360.8 kB/s eta 0:00:16\n",
      "   ------ --------------------------------- 1.0/6.3 MB 184.4 kB/s eta 0:00:29\n",
      "   ------ --------------------------------- 1.0/6.3 MB 184.4 kB/s eta 0:00:29\n",
      "   ------ --------------------------------- 1.0/6.3 MB 184.4 kB/s eta 0:00:29\n",
      "   -------- ------------------------------- 1.3/6.3 MB 220.8 kB/s eta 0:00:23\n",
      "   -------- ------------------------------- 1.3/6.3 MB 220.8 kB/s eta 0:00:23\n",
      "   -------- ------------------------------- 1.3/6.3 MB 220.8 kB/s eta 0:00:23\n",
      "   -------- ------------------------------- 1.3/6.3 MB 220.8 kB/s eta 0:00:23\n",
      "   -------- ------------------------------- 1.3/6.3 MB 220.8 kB/s eta 0:00:23\n",
      "   ---------- ----------------------------- 1.6/6.3 MB 223.1 kB/s eta 0:00:22\n",
      "   ---------- ----------------------------- 1.6/6.3 MB 223.1 kB/s eta 0:00:22\n",
      "   ---------- ----------------------------- 1.6/6.3 MB 223.1 kB/s eta 0:00:22\n",
      "   ---------- ----------------------------- 1.6/6.3 MB 223.1 kB/s eta 0:00:22\n",
      "   ---------- ----------------------------- 1.6/6.3 MB 223.1 kB/s eta 0:00:22\n",
      "   ----------- ---------------------------- 1.8/6.3 MB 226.7 kB/s eta 0:00:20\n",
      "   ----------- ---------------------------- 1.8/6.3 MB 226.7 kB/s eta 0:00:20\n",
      "   ----------- ---------------------------- 1.8/6.3 MB 226.7 kB/s eta 0:00:20\n",
      "   ----------- ---------------------------- 1.8/6.3 MB 226.7 kB/s eta 0:00:20\n",
      "   ----------- ---------------------------- 1.8/6.3 MB 226.7 kB/s eta 0:00:20\n",
      "   ----------- ---------------------------- 1.8/6.3 MB 226.7 kB/s eta 0:00:20\n",
      "   ----------- ---------------------------- 1.8/6.3 MB 226.7 kB/s eta 0:00:20\n",
      "   ----------- ---------------------------- 1.8/6.3 MB 226.7 kB/s eta 0:00:20\n",
      "   ----------- ---------------------------- 1.8/6.3 MB 226.7 kB/s eta 0:00:20\n",
      "   ----------- ---------------------------- 1.8/6.3 MB 226.7 kB/s eta 0:00:20\n",
      "   ------------- -------------------------- 2.1/6.3 MB 201.8 kB/s eta 0:00:21\n",
      "   ------------- -------------------------- 2.1/6.3 MB 201.8 kB/s eta 0:00:21\n",
      "   ------------- -------------------------- 2.1/6.3 MB 201.8 kB/s eta 0:00:21\n",
      "   ------------- -------------------------- 2.1/6.3 MB 201.8 kB/s eta 0:00:21\n",
      "   ------------- -------------------------- 2.1/6.3 MB 201.8 kB/s eta 0:00:21\n",
      "   ------------- -------------------------- 2.1/6.3 MB 201.8 kB/s eta 0:00:21\n",
      "   ------------- -------------------------- 2.1/6.3 MB 201.8 kB/s eta 0:00:21\n",
      "   ------------- -------------------------- 2.1/6.3 MB 201.8 kB/s eta 0:00:21\n",
      "   ------------- -------------------------- 2.1/6.3 MB 201.8 kB/s eta 0:00:21\n",
      "   ------------- -------------------------- 2.1/6.3 MB 201.8 kB/s eta 0:00:21\n",
      "   ------------- -------------------------- 2.1/6.3 MB 201.8 kB/s eta 0:00:21\n",
      "   ------------- -------------------------- 2.1/6.3 MB 201.8 kB/s eta 0:00:21\n",
      "   ------------- -------------------------- 2.1/6.3 MB 201.8 kB/s eta 0:00:21\n",
      "   ------------- -------------------------- 2.1/6.3 MB 201.8 kB/s eta 0:00:21\n",
      "   ------------- -------------------------- 2.1/6.3 MB 201.8 kB/s eta 0:00:21\n",
      "   ------------- -------------------------- 2.1/6.3 MB 201.8 kB/s eta 0:00:21\n",
      "   ------------- -------------------------- 2.1/6.3 MB 201.8 kB/s eta 0:00:21\n",
      "   ------------- -------------------------- 2.1/6.3 MB 201.8 kB/s eta 0:00:21\n",
      "   ------------- -------------------------- 2.1/6.3 MB 201.8 kB/s eta 0:00:21\n",
      "   ------------- -------------------------- 2.1/6.3 MB 201.8 kB/s eta 0:00:21\n",
      "   ------------- -------------------------- 2.1/6.3 MB 201.8 kB/s eta 0:00:21\n",
      "   --------------- ------------------------ 2.4/6.3 MB 155.0 kB/s eta 0:00:26\n",
      "   --------------- ------------------------ 2.4/6.3 MB 155.0 kB/s eta 0:00:26\n",
      "   --------------- ------------------------ 2.4/6.3 MB 155.0 kB/s eta 0:00:26\n",
      "   --------------- ------------------------ 2.4/6.3 MB 155.0 kB/s eta 0:00:26\n",
      "   --------------- ------------------------ 2.4/6.3 MB 155.0 kB/s eta 0:00:26\n",
      "   --------------- ------------------------ 2.4/6.3 MB 155.0 kB/s eta 0:00:26\n",
      "   --------------- ------------------------ 2.4/6.3 MB 155.0 kB/s eta 0:00:26\n",
      "   --------------- ------------------------ 2.4/6.3 MB 155.0 kB/s eta 0:00:26\n",
      "   ---------------- ----------------------- 2.6/6.3 MB 156.5 kB/s eta 0:00:24\n",
      "   ---------------- ----------------------- 2.6/6.3 MB 156.5 kB/s eta 0:00:24\n",
      "   ---------------- ----------------------- 2.6/6.3 MB 156.5 kB/s eta 0:00:24\n",
      "   ---------------- ----------------------- 2.6/6.3 MB 156.5 kB/s eta 0:00:24\n",
      "   ---------------- ----------------------- 2.6/6.3 MB 156.5 kB/s eta 0:00:24\n",
      "   ------------------ --------------------- 2.9/6.3 MB 162.3 kB/s eta 0:00:21\n",
      "   ------------------ --------------------- 2.9/6.3 MB 162.3 kB/s eta 0:00:21\n",
      "   ------------------ --------------------- 2.9/6.3 MB 162.3 kB/s eta 0:00:21\n",
      "   ------------------ --------------------- 2.9/6.3 MB 162.3 kB/s eta 0:00:21\n",
      "   ------------------ --------------------- 2.9/6.3 MB 162.3 kB/s eta 0:00:21\n",
      "   ------------------ --------------------- 2.9/6.3 MB 162.3 kB/s eta 0:00:21\n",
      "   -------------------- ------------------- 3.1/6.3 MB 166.3 kB/s eta 0:00:19\n",
      "   -------------------- ------------------- 3.1/6.3 MB 166.3 kB/s eta 0:00:19\n",
      "   --------------------- ------------------ 3.4/6.3 MB 176.3 kB/s eta 0:00:17\n",
      "   --------------------- ------------------ 3.4/6.3 MB 176.3 kB/s eta 0:00:17\n",
      "   ----------------------- ---------------- 3.7/6.3 MB 186.6 kB/s eta 0:00:14\n",
      "   ----------------------- ---------------- 3.7/6.3 MB 186.6 kB/s eta 0:00:14\n",
      "   ----------------------- ---------------- 3.7/6.3 MB 186.6 kB/s eta 0:00:14\n",
      "   ----------------------- ---------------- 3.7/6.3 MB 186.6 kB/s eta 0:00:14\n",
      "   ------------------------- -------------- 3.9/6.3 MB 192.7 kB/s eta 0:00:13\n",
      "   ------------------------- -------------- 3.9/6.3 MB 192.7 kB/s eta 0:00:13\n",
      "   ------------------------- -------------- 3.9/6.3 MB 192.7 kB/s eta 0:00:13\n",
      "   ------------------------- -------------- 3.9/6.3 MB 192.7 kB/s eta 0:00:13\n",
      "   -------------------------- ------------- 4.2/6.3 MB 197.2 kB/s eta 0:00:11\n",
      "   -------------------------- ------------- 4.2/6.3 MB 197.2 kB/s eta 0:00:11\n",
      "   ---------------------------- ----------- 4.5/6.3 MB 205.1 kB/s eta 0:00:09\n",
      "   ---------------------------- ----------- 4.5/6.3 MB 205.1 kB/s eta 0:00:09\n",
      "   ---------------------------- ----------- 4.5/6.3 MB 205.1 kB/s eta 0:00:09\n",
      "   ---------------------------- ----------- 4.5/6.3 MB 205.1 kB/s eta 0:00:09\n",
      "   ------------------------------ --------- 4.7/6.3 MB 210.2 kB/s eta 0:00:08\n",
      "   ------------------------------ --------- 4.7/6.3 MB 210.2 kB/s eta 0:00:08\n",
      "   ------------------------------ --------- 4.7/6.3 MB 210.2 kB/s eta 0:00:08\n",
      "   ------------------------------ --------- 4.7/6.3 MB 210.2 kB/s eta 0:00:08\n",
      "   ------------------------------ --------- 4.7/6.3 MB 210.2 kB/s eta 0:00:08\n",
      "   ------------------------------ --------- 4.7/6.3 MB 210.2 kB/s eta 0:00:08\n",
      "   ------------------------------ --------- 4.7/6.3 MB 210.2 kB/s eta 0:00:08\n",
      "   ------------------------------ --------- 4.7/6.3 MB 210.2 kB/s eta 0:00:08\n",
      "   ------------------------------ --------- 4.7/6.3 MB 210.2 kB/s eta 0:00:08\n",
      "   ------------------------------ --------- 4.7/6.3 MB 210.2 kB/s eta 0:00:08\n",
      "   ------------------------------ --------- 4.7/6.3 MB 210.2 kB/s eta 0:00:08\n",
      "   ------------------------------- -------- 5.0/6.3 MB 201.2 kB/s eta 0:00:07\n",
      "   ------------------------------- -------- 5.0/6.3 MB 201.2 kB/s eta 0:00:07\n",
      "   --------------------------------- ------ 5.2/6.3 MB 208.1 kB/s eta 0:00:05\n",
      "   --------------------------------- ------ 5.2/6.3 MB 208.1 kB/s eta 0:00:05\n",
      "   --------------------------------- ------ 5.2/6.3 MB 208.1 kB/s eta 0:00:05\n",
      "   ----------------------------------- ---- 5.5/6.3 MB 214.4 kB/s eta 0:00:04\n",
      "   ----------------------------------- ---- 5.5/6.3 MB 214.4 kB/s eta 0:00:04\n",
      "   ----------------------------------- ---- 5.5/6.3 MB 214.4 kB/s eta 0:00:04\n",
      "   ------------------------------------ --- 5.8/6.3 MB 218.2 kB/s eta 0:00:03\n",
      "   ------------------------------------ --- 5.8/6.3 MB 218.2 kB/s eta 0:00:03\n",
      "   ------------------------------------ --- 5.8/6.3 MB 218.2 kB/s eta 0:00:03\n",
      "   ------------------------------------ --- 5.8/6.3 MB 218.2 kB/s eta 0:00:03\n",
      "   ------------------------------------ --- 5.8/6.3 MB 218.2 kB/s eta 0:00:03\n",
      "   ------------------------------------ --- 5.8/6.3 MB 218.2 kB/s eta 0:00:03\n",
      "   ------------------------------------ --- 5.8/6.3 MB 218.2 kB/s eta 0:00:03\n",
      "   -------------------------------------- - 6.0/6.3 MB 216.6 kB/s eta 0:00:02\n",
      "   -------------------------------------- - 6.0/6.3 MB 216.6 kB/s eta 0:00:02\n",
      "   -------------------------------------- - 6.0/6.3 MB 216.6 kB/s eta 0:00:02\n",
      "   -------------------------------------- - 6.0/6.3 MB 216.6 kB/s eta 0:00:02\n",
      "   -------------------------------------- - 6.0/6.3 MB 216.6 kB/s eta 0:00:02\n",
      "   ---------------------------------------- 6.3/6.3 MB 216.0 kB/s eta 0:00:00\n",
      "Downloading cloudpathlib-0.21.0-py3-none-any.whl (52 kB)\n",
      "Downloading confection-0.1.5-py3-none-any.whl (35 kB)\n",
      "Downloading language_data-1.3.0-py3-none-any.whl (5.4 MB)\n",
      "   ---------------------------------------- 0.0/5.4 MB ? eta -:--:--\n",
      "   ---------------------------------------- 0.0/5.4 MB ? eta -:--:--\n",
      "   ---------------------------------------- 0.0/5.4 MB ? eta -:--:--\n",
      "   - -------------------------------------- 0.3/5.4 MB ? eta -:--:--\n",
      "   - -------------------------------------- 0.3/5.4 MB ? eta -:--:--\n",
      "   - -------------------------------------- 0.3/5.4 MB ? eta -:--:--\n",
      "   --- ------------------------------------ 0.5/5.4 MB 356.7 kB/s eta 0:00:14\n",
      "   --- ------------------------------------ 0.5/5.4 MB 356.7 kB/s eta 0:00:14\n",
      "   ----- ---------------------------------- 0.8/5.4 MB 541.1 kB/s eta 0:00:09\n",
      "   ------- -------------------------------- 1.0/5.4 MB 671.0 kB/s eta 0:00:07\n",
      "   --------- ------------------------------ 1.3/5.4 MB 729.2 kB/s eta 0:00:06\n",
      "   --------- ------------------------------ 1.3/5.4 MB 729.2 kB/s eta 0:00:06\n",
      "   --------- ------------------------------ 1.3/5.4 MB 729.2 kB/s eta 0:00:06\n",
      "   ----------- ---------------------------- 1.6/5.4 MB 612.2 kB/s eta 0:00:07\n",
      "   ----------- ---------------------------- 1.6/5.4 MB 612.2 kB/s eta 0:00:07\n",
      "   ----------- ---------------------------- 1.6/5.4 MB 612.2 kB/s eta 0:00:07\n",
      "   ----------- ---------------------------- 1.6/5.4 MB 612.2 kB/s eta 0:00:07\n",
      "   ----------- ---------------------------- 1.6/5.4 MB 612.2 kB/s eta 0:00:07\n",
      "   ----------- ---------------------------- 1.6/5.4 MB 612.2 kB/s eta 0:00:07\n",
      "   ------------- -------------------------- 1.8/5.4 MB 466.0 kB/s eta 0:00:08\n",
      "   ------------- -------------------------- 1.8/5.4 MB 466.0 kB/s eta 0:00:08\n",
      "   ------------- -------------------------- 1.8/5.4 MB 466.0 kB/s eta 0:00:08\n",
      "   ------------- -------------------------- 1.8/5.4 MB 466.0 kB/s eta 0:00:08\n",
      "   --------------- ------------------------ 2.1/5.4 MB 446.5 kB/s eta 0:00:08\n",
      "   --------------- ------------------------ 2.1/5.4 MB 446.5 kB/s eta 0:00:08\n",
      "   ----------------- ---------------------- 2.4/5.4 MB 458.0 kB/s eta 0:00:07\n",
      "   ----------------- ---------------------- 2.4/5.4 MB 458.0 kB/s eta 0:00:07\n",
      "   ----------------- ---------------------- 2.4/5.4 MB 458.0 kB/s eta 0:00:07\n",
      "   ----------------- ---------------------- 2.4/5.4 MB 458.0 kB/s eta 0:00:07\n",
      "   ------------------- -------------------- 2.6/5.4 MB 430.1 kB/s eta 0:00:07\n",
      "   ------------------- -------------------- 2.6/5.4 MB 430.1 kB/s eta 0:00:07\n",
      "   ------------------- -------------------- 2.6/5.4 MB 430.1 kB/s eta 0:00:07\n",
      "   ------------------- -------------------- 2.6/5.4 MB 430.1 kB/s eta 0:00:07\n",
      "   ------------------- -------------------- 2.6/5.4 MB 430.1 kB/s eta 0:00:07\n",
      "   --------------------- ------------------ 2.9/5.4 MB 403.3 kB/s eta 0:00:07\n",
      "   --------------------- ------------------ 2.9/5.4 MB 403.3 kB/s eta 0:00:07\n",
      "   --------------------- ------------------ 2.9/5.4 MB 403.3 kB/s eta 0:00:07\n",
      "   --------------------- ------------------ 2.9/5.4 MB 403.3 kB/s eta 0:00:07\n",
      "   --------------------- ------------------ 2.9/5.4 MB 403.3 kB/s eta 0:00:07\n",
      "   --------------------- ------------------ 2.9/5.4 MB 403.3 kB/s eta 0:00:07\n",
      "   --------------------- ------------------ 2.9/5.4 MB 403.3 kB/s eta 0:00:07\n",
      "   ----------------------- ---------------- 3.1/5.4 MB 366.9 kB/s eta 0:00:07\n",
      "   ------------------------- -------------- 3.4/5.4 MB 387.2 kB/s eta 0:00:06\n",
      "   ------------------------- -------------- 3.4/5.4 MB 387.2 kB/s eta 0:00:06\n",
      "   ------------------------- -------------- 3.4/5.4 MB 387.2 kB/s eta 0:00:06\n",
      "   ------------------------- -------------- 3.4/5.4 MB 387.2 kB/s eta 0:00:06\n",
      "   ------------------------- -------------- 3.4/5.4 MB 387.2 kB/s eta 0:00:06\n",
      "   --------------------------- ------------ 3.7/5.4 MB 373.5 kB/s eta 0:00:05\n",
      "   --------------------------- ------------ 3.7/5.4 MB 373.5 kB/s eta 0:00:05\n",
      "   --------------------------- ------------ 3.7/5.4 MB 373.5 kB/s eta 0:00:05\n",
      "   ----------------------------- ---------- 3.9/5.4 MB 375.2 kB/s eta 0:00:04\n",
      "   ----------------------------- ---------- 3.9/5.4 MB 375.2 kB/s eta 0:00:04\n",
      "   ------------------------------- -------- 4.2/5.4 MB 387.1 kB/s eta 0:00:04\n",
      "   ------------------------------- -------- 4.2/5.4 MB 387.1 kB/s eta 0:00:04\n",
      "   ------------------------------- -------- 4.2/5.4 MB 387.1 kB/s eta 0:00:04\n",
      "   ------------------------------- -------- 4.2/5.4 MB 387.1 kB/s eta 0:00:04\n",
      "   ------------------------------- -------- 4.2/5.4 MB 387.1 kB/s eta 0:00:04\n",
      "   ------------------------------- -------- 4.2/5.4 MB 387.1 kB/s eta 0:00:04\n",
      "   ------------------------------- -------- 4.2/5.4 MB 387.1 kB/s eta 0:00:04\n",
      "   ------------------------------- -------- 4.2/5.4 MB 387.1 kB/s eta 0:00:04\n",
      "   --------------------------------- ------ 4.5/5.4 MB 348.6 kB/s eta 0:00:03\n",
      "   --------------------------------- ------ 4.5/5.4 MB 348.6 kB/s eta 0:00:03\n",
      "   --------------------------------- ------ 4.5/5.4 MB 348.6 kB/s eta 0:00:03\n",
      "   --------------------------------- ------ 4.5/5.4 MB 348.6 kB/s eta 0:00:03\n",
      "   --------------------------------- ------ 4.5/5.4 MB 348.6 kB/s eta 0:00:03\n",
      "   --------------------------------- ------ 4.5/5.4 MB 348.6 kB/s eta 0:00:03\n",
      "   ----------------------------------- ---- 4.7/5.4 MB 337.1 kB/s eta 0:00:02\n",
      "   ----------------------------------- ---- 4.7/5.4 MB 337.1 kB/s eta 0:00:02\n",
      "   ----------------------------------- ---- 4.7/5.4 MB 337.1 kB/s eta 0:00:02\n",
      "   ----------------------------------- ---- 4.7/5.4 MB 337.1 kB/s eta 0:00:02\n",
      "   ----------------------------------- ---- 4.7/5.4 MB 337.1 kB/s eta 0:00:02\n",
      "   ----------------------------------- ---- 4.7/5.4 MB 337.1 kB/s eta 0:00:02\n",
      "   ----------------------------------- ---- 4.7/5.4 MB 337.1 kB/s eta 0:00:02\n",
      "   ------------------------------------ --- 5.0/5.4 MB 323.0 kB/s eta 0:00:02\n",
      "   ------------------------------------ --- 5.0/5.4 MB 323.0 kB/s eta 0:00:02\n",
      "   ------------------------------------ --- 5.0/5.4 MB 323.0 kB/s eta 0:00:02\n",
      "   ------------------------------------ --- 5.0/5.4 MB 323.0 kB/s eta 0:00:02\n",
      "   ------------------------------------ --- 5.0/5.4 MB 323.0 kB/s eta 0:00:02\n",
      "   ------------------------------------ --- 5.0/5.4 MB 323.0 kB/s eta 0:00:02\n",
      "   ------------------------------------ --- 5.0/5.4 MB 323.0 kB/s eta 0:00:02\n",
      "   -------------------------------------- - 5.2/5.4 MB 310.7 kB/s eta 0:00:01\n",
      "   -------------------------------------- - 5.2/5.4 MB 310.7 kB/s eta 0:00:01\n",
      "   ---------------------------------------- 5.4/5.4 MB 308.2 kB/s eta 0:00:00\n",
      "Downloading shellingham-1.5.4-py2.py3-none-any.whl (9.8 kB)\n",
      "Downloading smart_open-7.1.0-py3-none-any.whl (61 kB)\n",
      "Downloading typing_inspection-0.4.0-py3-none-any.whl (14 kB)\n",
      "Downloading marisa_trie-1.2.1-cp312-cp312-win_amd64.whl (150 kB)\n",
      "Installing collected packages: cymem, wasabi, typing-inspection, spacy-loggers, spacy-legacy, smart-open, shellingham, pydantic-core, numpy, murmurhash, marisa-trie, cloudpathlib, catalogue, annotated-types, srsly, pydantic, preshed, language-data, blis, typer, langcodes, confection, weasel, thinc, spacy\n",
      "  Attempting uninstall: numpy\n",
      "    Found existing installation: numpy 1.26.4\n",
      "    Uninstalling numpy-1.26.4:\n",
      "      Successfully uninstalled numpy-1.26.4\n",
      "Successfully installed annotated-types-0.7.0 blis-1.3.0 catalogue-2.0.10 cloudpathlib-0.21.0 confection-0.1.5 cymem-2.0.11 langcodes-3.5.0 language-data-1.3.0 marisa-trie-1.2.1 murmurhash-1.0.12 numpy-2.2.5 preshed-3.0.9 pydantic-2.11.3 pydantic-core-2.33.1 shellingham-1.5.4 smart-open-7.1.0 spacy-3.8.5 spacy-legacy-3.0.12 spacy-loggers-1.0.5 srsly-2.5.1 thinc-8.3.6 typer-0.15.2 typing-inspection-0.4.0 wasabi-1.1.3 weasel-0.4.1\n"
     ]
    }
   ],
   "source": [
    "!pip install spacy"
   ]
  },
  {
   "cell_type": "code",
   "execution_count": 28,
   "id": "87d8f79a",
   "metadata": {},
   "outputs": [
    {
     "ename": "OSError",
     "evalue": "[WinError 126] The specified module could not be found. Error loading \"C:\\Users\\Razieh\\AppData\\Local\\Packages\\PythonSoftwareFoundation.Python.3.12_qbz5n2kfra8p0\\LocalCache\\local-packages\\Python312\\site-packages\\torch\\lib\\fbgemm.dll\" or one of its dependencies.",
     "output_type": "error",
     "traceback": [
      "\u001b[1;31m---------------------------------------------------------------------------\u001b[0m",
      "\u001b[1;31mOSError\u001b[0m                                   Traceback (most recent call last)",
      "Cell \u001b[1;32mIn[28], line 1\u001b[0m\n\u001b[1;32m----> 1\u001b[0m \u001b[38;5;28;01mimport\u001b[39;00m \u001b[38;5;21;01mspacy\u001b[39;00m\n\u001b[0;32m      2\u001b[0m spacy\u001b[38;5;241m.\u001b[39mdownload(\u001b[38;5;124m'\u001b[39m\u001b[38;5;124men\u001b[39m\u001b[38;5;124m'\u001b[39m)\n",
      "File \u001b[1;32m~\\AppData\\Local\\Packages\\PythonSoftwareFoundation.Python.3.12_qbz5n2kfra8p0\\LocalCache\\local-packages\\Python312\\site-packages\\spacy\\__init__.py:6\u001b[0m\n\u001b[0;32m      3\u001b[0m \u001b[38;5;28;01mfrom\u001b[39;00m \u001b[38;5;21;01mtyping\u001b[39;00m \u001b[38;5;28;01mimport\u001b[39;00m Any, Dict, Iterable, Union\n\u001b[0;32m      5\u001b[0m \u001b[38;5;66;03m# set library-specific custom warning handling before doing anything else\u001b[39;00m\n\u001b[1;32m----> 6\u001b[0m \u001b[38;5;28;01mfrom\u001b[39;00m \u001b[38;5;21;01m.\u001b[39;00m\u001b[38;5;21;01merrors\u001b[39;00m \u001b[38;5;28;01mimport\u001b[39;00m setup_default_warnings\n\u001b[0;32m      8\u001b[0m setup_default_warnings()  \u001b[38;5;66;03m# noqa: E402\u001b[39;00m\n\u001b[0;32m     10\u001b[0m \u001b[38;5;66;03m# These are imported as part of the API\u001b[39;00m\n",
      "File \u001b[1;32m~\\AppData\\Local\\Packages\\PythonSoftwareFoundation.Python.3.12_qbz5n2kfra8p0\\LocalCache\\local-packages\\Python312\\site-packages\\spacy\\errors.py:3\u001b[0m\n\u001b[0;32m      1\u001b[0m \u001b[38;5;28;01mimport\u001b[39;00m \u001b[38;5;21;01mwarnings\u001b[39;00m\n\u001b[1;32m----> 3\u001b[0m \u001b[38;5;28;01mfrom\u001b[39;00m \u001b[38;5;21;01m.\u001b[39;00m\u001b[38;5;21;01mcompat\u001b[39;00m \u001b[38;5;28;01mimport\u001b[39;00m Literal\n\u001b[0;32m      6\u001b[0m \u001b[38;5;28;01mclass\u001b[39;00m \u001b[38;5;21;01mErrorsWithCodes\u001b[39;00m(\u001b[38;5;28mtype\u001b[39m):\n\u001b[0;32m      7\u001b[0m     \u001b[38;5;28;01mdef\u001b[39;00m \u001b[38;5;21m__getattribute__\u001b[39m(\u001b[38;5;28mself\u001b[39m, code):\n",
      "File \u001b[1;32m~\\AppData\\Local\\Packages\\PythonSoftwareFoundation.Python.3.12_qbz5n2kfra8p0\\LocalCache\\local-packages\\Python312\\site-packages\\spacy\\compat.py:4\u001b[0m\n\u001b[0;32m      1\u001b[0m \u001b[38;5;124;03m\"\"\"Helpers for Python and platform compatibility.\"\"\"\u001b[39;00m\n\u001b[0;32m      2\u001b[0m \u001b[38;5;28;01mimport\u001b[39;00m \u001b[38;5;21;01msys\u001b[39;00m\n\u001b[1;32m----> 4\u001b[0m \u001b[38;5;28;01mfrom\u001b[39;00m \u001b[38;5;21;01mthinc\u001b[39;00m\u001b[38;5;21;01m.\u001b[39;00m\u001b[38;5;21;01mutil\u001b[39;00m \u001b[38;5;28;01mimport\u001b[39;00m copy_array\n\u001b[0;32m      6\u001b[0m \u001b[38;5;28;01mtry\u001b[39;00m:\n\u001b[0;32m      7\u001b[0m     \u001b[38;5;28;01mimport\u001b[39;00m \u001b[38;5;21;01mcPickle\u001b[39;00m \u001b[38;5;28;01mas\u001b[39;00m \u001b[38;5;21;01mpickle\u001b[39;00m\n",
      "File \u001b[1;32m~\\AppData\\Local\\Packages\\PythonSoftwareFoundation.Python.3.12_qbz5n2kfra8p0\\LocalCache\\local-packages\\Python312\\site-packages\\thinc\\__init__.py:5\u001b[0m\n\u001b[0;32m      2\u001b[0m \u001b[38;5;28;01mimport\u001b[39;00m \u001b[38;5;21;01mnumpy\u001b[39;00m\n\u001b[0;32m      4\u001b[0m \u001b[38;5;28;01mfrom\u001b[39;00m \u001b[38;5;21;01m.\u001b[39;00m\u001b[38;5;21;01mabout\u001b[39;00m \u001b[38;5;28;01mimport\u001b[39;00m __version__\n\u001b[1;32m----> 5\u001b[0m \u001b[38;5;28;01mfrom\u001b[39;00m \u001b[38;5;21;01m.\u001b[39;00m\u001b[38;5;21;01mconfig\u001b[39;00m \u001b[38;5;28;01mimport\u001b[39;00m registry\n\u001b[0;32m      7\u001b[0m \u001b[38;5;66;03m# fmt: off\u001b[39;00m\n\u001b[0;32m      8\u001b[0m __all__ \u001b[38;5;241m=\u001b[39m [\n\u001b[0;32m      9\u001b[0m     \u001b[38;5;124m\"\u001b[39m\u001b[38;5;124mregistry\u001b[39m\u001b[38;5;124m\"\u001b[39m,\n\u001b[0;32m     10\u001b[0m     \u001b[38;5;124m\"\u001b[39m\u001b[38;5;124m__version__\u001b[39m\u001b[38;5;124m\"\u001b[39m,\n\u001b[0;32m     11\u001b[0m ]\n",
      "File \u001b[1;32m~\\AppData\\Local\\Packages\\PythonSoftwareFoundation.Python.3.12_qbz5n2kfra8p0\\LocalCache\\local-packages\\Python312\\site-packages\\thinc\\config.py:5\u001b[0m\n\u001b[0;32m      2\u001b[0m \u001b[38;5;28;01mimport\u001b[39;00m \u001b[38;5;21;01mconfection\u001b[39;00m\n\u001b[0;32m      3\u001b[0m \u001b[38;5;28;01mfrom\u001b[39;00m \u001b[38;5;21;01mconfection\u001b[39;00m \u001b[38;5;28;01mimport\u001b[39;00m VARIABLE_RE, Config, ConfigValidationError, Promise\n\u001b[1;32m----> 5\u001b[0m \u001b[38;5;28;01mfrom\u001b[39;00m \u001b[38;5;21;01m.\u001b[39;00m\u001b[38;5;21;01mtypes\u001b[39;00m \u001b[38;5;28;01mimport\u001b[39;00m Decorator\n\u001b[0;32m      8\u001b[0m \u001b[38;5;28;01mclass\u001b[39;00m \u001b[38;5;21;01mregistry\u001b[39;00m(confection\u001b[38;5;241m.\u001b[39mregistry):\n\u001b[0;32m      9\u001b[0m     \u001b[38;5;66;03m# fmt: off\u001b[39;00m\n\u001b[0;32m     10\u001b[0m     optimizers: Decorator \u001b[38;5;241m=\u001b[39m catalogue\u001b[38;5;241m.\u001b[39mcreate(\u001b[38;5;124m\"\u001b[39m\u001b[38;5;124mthinc\u001b[39m\u001b[38;5;124m\"\u001b[39m, \u001b[38;5;124m\"\u001b[39m\u001b[38;5;124moptimizers\u001b[39m\u001b[38;5;124m\"\u001b[39m, entry_points\u001b[38;5;241m=\u001b[39m\u001b[38;5;28;01mTrue\u001b[39;00m)\n",
      "File \u001b[1;32m~\\AppData\\Local\\Packages\\PythonSoftwareFoundation.Python.3.12_qbz5n2kfra8p0\\LocalCache\\local-packages\\Python312\\site-packages\\thinc\\types.py:27\u001b[0m\n\u001b[0;32m     24\u001b[0m \u001b[38;5;28;01mfrom\u001b[39;00m \u001b[38;5;21;01mpydantic\u001b[39;00m \u001b[38;5;28;01mimport\u001b[39;00m GetCoreSchemaHandler\n\u001b[0;32m     25\u001b[0m \u001b[38;5;28;01mfrom\u001b[39;00m \u001b[38;5;21;01mpydantic_core\u001b[39;00m \u001b[38;5;28;01mimport\u001b[39;00m core_schema\n\u001b[1;32m---> 27\u001b[0m \u001b[38;5;28;01mfrom\u001b[39;00m \u001b[38;5;21;01m.\u001b[39;00m\u001b[38;5;21;01mcompat\u001b[39;00m \u001b[38;5;28;01mimport\u001b[39;00m cupy, has_cupy\n\u001b[0;32m     29\u001b[0m \u001b[38;5;28;01mif\u001b[39;00m has_cupy:\n\u001b[0;32m     30\u001b[0m     get_array_module \u001b[38;5;241m=\u001b[39m cupy\u001b[38;5;241m.\u001b[39mget_array_module\n",
      "File \u001b[1;32m~\\AppData\\Local\\Packages\\PythonSoftwareFoundation.Python.3.12_qbz5n2kfra8p0\\LocalCache\\local-packages\\Python312\\site-packages\\thinc\\compat.py:35\u001b[0m\n\u001b[0;32m     31\u001b[0m     has_cupy_gpu \u001b[38;5;241m=\u001b[39m \u001b[38;5;28;01mFalse\u001b[39;00m\n\u001b[0;32m     34\u001b[0m \u001b[38;5;28;01mtry\u001b[39;00m:  \u001b[38;5;66;03m# pragma: no cover\u001b[39;00m\n\u001b[1;32m---> 35\u001b[0m     \u001b[38;5;28;01mimport\u001b[39;00m \u001b[38;5;21;01mtorch\u001b[39;00m\n\u001b[0;32m     36\u001b[0m     \u001b[38;5;28;01mimport\u001b[39;00m \u001b[38;5;21;01mtorch\u001b[39;00m\u001b[38;5;21;01m.\u001b[39;00m\u001b[38;5;21;01mutils\u001b[39;00m\u001b[38;5;21;01m.\u001b[39;00m\u001b[38;5;21;01mdlpack\u001b[39;00m\n\u001b[0;32m     38\u001b[0m     has_torch \u001b[38;5;241m=\u001b[39m \u001b[38;5;28;01mTrue\u001b[39;00m\n",
      "File \u001b[1;32m~\\AppData\\Local\\Packages\\PythonSoftwareFoundation.Python.3.12_qbz5n2kfra8p0\\LocalCache\\local-packages\\Python312\\site-packages\\torch\\__init__.py:148\u001b[0m\n\u001b[0;32m    146\u001b[0m                 err \u001b[38;5;241m=\u001b[39m ctypes\u001b[38;5;241m.\u001b[39mWinError(ctypes\u001b[38;5;241m.\u001b[39mget_last_error())\n\u001b[0;32m    147\u001b[0m                 err\u001b[38;5;241m.\u001b[39mstrerror \u001b[38;5;241m+\u001b[39m\u001b[38;5;241m=\u001b[39m \u001b[38;5;124mf\u001b[39m\u001b[38;5;124m'\u001b[39m\u001b[38;5;124m Error loading \u001b[39m\u001b[38;5;124m\"\u001b[39m\u001b[38;5;132;01m{\u001b[39;00mdll\u001b[38;5;132;01m}\u001b[39;00m\u001b[38;5;124m\"\u001b[39m\u001b[38;5;124m or one of its dependencies.\u001b[39m\u001b[38;5;124m'\u001b[39m\n\u001b[1;32m--> 148\u001b[0m                 \u001b[38;5;28;01mraise\u001b[39;00m err\n\u001b[0;32m    150\u001b[0m     kernel32\u001b[38;5;241m.\u001b[39mSetErrorMode(prev_error_mode)\n\u001b[0;32m    153\u001b[0m \u001b[38;5;28;01mdef\u001b[39;00m \u001b[38;5;21m_preload_cuda_deps\u001b[39m(lib_folder, lib_name):\n",
      "\u001b[1;31mOSError\u001b[0m: [WinError 126] The specified module could not be found. Error loading \"C:\\Users\\Razieh\\AppData\\Local\\Packages\\PythonSoftwareFoundation.Python.3.12_qbz5n2kfra8p0\\LocalCache\\local-packages\\Python312\\site-packages\\torch\\lib\\fbgemm.dll\" or one of its dependencies."
     ]
    }
   ],
   "source": [
    "import spacy\n",
    "spacy.download('en')"
   ]
  },
  {
   "cell_type": "code",
   "execution_count": 24,
   "id": "13ae7b3f",
   "metadata": {},
   "outputs": [
    {
     "ename": "OSError",
     "evalue": "[WinError 126] The specified module could not be found. Error loading \"C:\\Users\\Razieh\\AppData\\Local\\Packages\\PythonSoftwareFoundation.Python.3.12_qbz5n2kfra8p0\\LocalCache\\local-packages\\Python312\\site-packages\\torch\\lib\\fbgemm.dll\" or one of its dependencies.",
     "output_type": "error",
     "traceback": [
      "\u001b[1;31m---------------------------------------------------------------------------\u001b[0m",
      "\u001b[1;31mOSError\u001b[0m                                   Traceback (most recent call last)",
      "Cell \u001b[1;32mIn[24], line 1\u001b[0m\n\u001b[1;32m----> 1\u001b[0m \u001b[38;5;28;01mimport\u001b[39;00m \u001b[38;5;21;01mspacy\u001b[39;00m\n\u001b[0;32m      2\u001b[0m \u001b[38;5;66;03m# Load the spaCy package and use it to parse the text\u001b[39;00m\n\u001b[0;32m      3\u001b[0m \u001b[38;5;66;03m# make sure you have run \"python -m spacy download en\"\u001b[39;00m\n\u001b[0;32m      4\u001b[0m nlp \u001b[38;5;241m=\u001b[39m spacy\u001b[38;5;241m.\u001b[39mload(\u001b[38;5;124m\"\u001b[39m\u001b[38;5;124men_core_web_sm\u001b[39m\u001b[38;5;124m\"\u001b[39m)\n",
      "File \u001b[1;32m~\\AppData\\Local\\Packages\\PythonSoftwareFoundation.Python.3.12_qbz5n2kfra8p0\\LocalCache\\local-packages\\Python312\\site-packages\\spacy\\__init__.py:6\u001b[0m\n\u001b[0;32m      3\u001b[0m \u001b[38;5;28;01mfrom\u001b[39;00m \u001b[38;5;21;01mtyping\u001b[39;00m \u001b[38;5;28;01mimport\u001b[39;00m Any, Dict, Iterable, Union\n\u001b[0;32m      5\u001b[0m \u001b[38;5;66;03m# set library-specific custom warning handling before doing anything else\u001b[39;00m\n\u001b[1;32m----> 6\u001b[0m \u001b[38;5;28;01mfrom\u001b[39;00m \u001b[38;5;21;01m.\u001b[39;00m\u001b[38;5;21;01merrors\u001b[39;00m \u001b[38;5;28;01mimport\u001b[39;00m setup_default_warnings\n\u001b[0;32m      8\u001b[0m setup_default_warnings()  \u001b[38;5;66;03m# noqa: E402\u001b[39;00m\n\u001b[0;32m     10\u001b[0m \u001b[38;5;66;03m# These are imported as part of the API\u001b[39;00m\n",
      "File \u001b[1;32m~\\AppData\\Local\\Packages\\PythonSoftwareFoundation.Python.3.12_qbz5n2kfra8p0\\LocalCache\\local-packages\\Python312\\site-packages\\spacy\\errors.py:3\u001b[0m\n\u001b[0;32m      1\u001b[0m \u001b[38;5;28;01mimport\u001b[39;00m \u001b[38;5;21;01mwarnings\u001b[39;00m\n\u001b[1;32m----> 3\u001b[0m \u001b[38;5;28;01mfrom\u001b[39;00m \u001b[38;5;21;01m.\u001b[39;00m\u001b[38;5;21;01mcompat\u001b[39;00m \u001b[38;5;28;01mimport\u001b[39;00m Literal\n\u001b[0;32m      6\u001b[0m \u001b[38;5;28;01mclass\u001b[39;00m \u001b[38;5;21;01mErrorsWithCodes\u001b[39;00m(\u001b[38;5;28mtype\u001b[39m):\n\u001b[0;32m      7\u001b[0m     \u001b[38;5;28;01mdef\u001b[39;00m \u001b[38;5;21m__getattribute__\u001b[39m(\u001b[38;5;28mself\u001b[39m, code):\n",
      "File \u001b[1;32m~\\AppData\\Local\\Packages\\PythonSoftwareFoundation.Python.3.12_qbz5n2kfra8p0\\LocalCache\\local-packages\\Python312\\site-packages\\spacy\\compat.py:4\u001b[0m\n\u001b[0;32m      1\u001b[0m \u001b[38;5;124;03m\"\"\"Helpers for Python and platform compatibility.\"\"\"\u001b[39;00m\n\u001b[0;32m      2\u001b[0m \u001b[38;5;28;01mimport\u001b[39;00m \u001b[38;5;21;01msys\u001b[39;00m\n\u001b[1;32m----> 4\u001b[0m \u001b[38;5;28;01mfrom\u001b[39;00m \u001b[38;5;21;01mthinc\u001b[39;00m\u001b[38;5;21;01m.\u001b[39;00m\u001b[38;5;21;01mutil\u001b[39;00m \u001b[38;5;28;01mimport\u001b[39;00m copy_array\n\u001b[0;32m      6\u001b[0m \u001b[38;5;28;01mtry\u001b[39;00m:\n\u001b[0;32m      7\u001b[0m     \u001b[38;5;28;01mimport\u001b[39;00m \u001b[38;5;21;01mcPickle\u001b[39;00m \u001b[38;5;28;01mas\u001b[39;00m \u001b[38;5;21;01mpickle\u001b[39;00m\n",
      "File \u001b[1;32m~\\AppData\\Local\\Packages\\PythonSoftwareFoundation.Python.3.12_qbz5n2kfra8p0\\LocalCache\\local-packages\\Python312\\site-packages\\thinc\\__init__.py:5\u001b[0m\n\u001b[0;32m      2\u001b[0m \u001b[38;5;28;01mimport\u001b[39;00m \u001b[38;5;21;01mnumpy\u001b[39;00m\n\u001b[0;32m      4\u001b[0m \u001b[38;5;28;01mfrom\u001b[39;00m \u001b[38;5;21;01m.\u001b[39;00m\u001b[38;5;21;01mabout\u001b[39;00m \u001b[38;5;28;01mimport\u001b[39;00m __version__\n\u001b[1;32m----> 5\u001b[0m \u001b[38;5;28;01mfrom\u001b[39;00m \u001b[38;5;21;01m.\u001b[39;00m\u001b[38;5;21;01mconfig\u001b[39;00m \u001b[38;5;28;01mimport\u001b[39;00m registry\n\u001b[0;32m      7\u001b[0m \u001b[38;5;66;03m# fmt: off\u001b[39;00m\n\u001b[0;32m      8\u001b[0m __all__ \u001b[38;5;241m=\u001b[39m [\n\u001b[0;32m      9\u001b[0m     \u001b[38;5;124m\"\u001b[39m\u001b[38;5;124mregistry\u001b[39m\u001b[38;5;124m\"\u001b[39m,\n\u001b[0;32m     10\u001b[0m     \u001b[38;5;124m\"\u001b[39m\u001b[38;5;124m__version__\u001b[39m\u001b[38;5;124m\"\u001b[39m,\n\u001b[0;32m     11\u001b[0m ]\n",
      "File \u001b[1;32m~\\AppData\\Local\\Packages\\PythonSoftwareFoundation.Python.3.12_qbz5n2kfra8p0\\LocalCache\\local-packages\\Python312\\site-packages\\thinc\\config.py:5\u001b[0m\n\u001b[0;32m      2\u001b[0m \u001b[38;5;28;01mimport\u001b[39;00m \u001b[38;5;21;01mconfection\u001b[39;00m\n\u001b[0;32m      3\u001b[0m \u001b[38;5;28;01mfrom\u001b[39;00m \u001b[38;5;21;01mconfection\u001b[39;00m \u001b[38;5;28;01mimport\u001b[39;00m VARIABLE_RE, Config, ConfigValidationError, Promise\n\u001b[1;32m----> 5\u001b[0m \u001b[38;5;28;01mfrom\u001b[39;00m \u001b[38;5;21;01m.\u001b[39;00m\u001b[38;5;21;01mtypes\u001b[39;00m \u001b[38;5;28;01mimport\u001b[39;00m Decorator\n\u001b[0;32m      8\u001b[0m \u001b[38;5;28;01mclass\u001b[39;00m \u001b[38;5;21;01mregistry\u001b[39;00m(confection\u001b[38;5;241m.\u001b[39mregistry):\n\u001b[0;32m      9\u001b[0m     \u001b[38;5;66;03m# fmt: off\u001b[39;00m\n\u001b[0;32m     10\u001b[0m     optimizers: Decorator \u001b[38;5;241m=\u001b[39m catalogue\u001b[38;5;241m.\u001b[39mcreate(\u001b[38;5;124m\"\u001b[39m\u001b[38;5;124mthinc\u001b[39m\u001b[38;5;124m\"\u001b[39m, \u001b[38;5;124m\"\u001b[39m\u001b[38;5;124moptimizers\u001b[39m\u001b[38;5;124m\"\u001b[39m, entry_points\u001b[38;5;241m=\u001b[39m\u001b[38;5;28;01mTrue\u001b[39;00m)\n",
      "File \u001b[1;32m~\\AppData\\Local\\Packages\\PythonSoftwareFoundation.Python.3.12_qbz5n2kfra8p0\\LocalCache\\local-packages\\Python312\\site-packages\\thinc\\types.py:27\u001b[0m\n\u001b[0;32m     24\u001b[0m \u001b[38;5;28;01mfrom\u001b[39;00m \u001b[38;5;21;01mpydantic\u001b[39;00m \u001b[38;5;28;01mimport\u001b[39;00m GetCoreSchemaHandler\n\u001b[0;32m     25\u001b[0m \u001b[38;5;28;01mfrom\u001b[39;00m \u001b[38;5;21;01mpydantic_core\u001b[39;00m \u001b[38;5;28;01mimport\u001b[39;00m core_schema\n\u001b[1;32m---> 27\u001b[0m \u001b[38;5;28;01mfrom\u001b[39;00m \u001b[38;5;21;01m.\u001b[39;00m\u001b[38;5;21;01mcompat\u001b[39;00m \u001b[38;5;28;01mimport\u001b[39;00m cupy, has_cupy\n\u001b[0;32m     29\u001b[0m \u001b[38;5;28;01mif\u001b[39;00m has_cupy:\n\u001b[0;32m     30\u001b[0m     get_array_module \u001b[38;5;241m=\u001b[39m cupy\u001b[38;5;241m.\u001b[39mget_array_module\n",
      "File \u001b[1;32m~\\AppData\\Local\\Packages\\PythonSoftwareFoundation.Python.3.12_qbz5n2kfra8p0\\LocalCache\\local-packages\\Python312\\site-packages\\thinc\\compat.py:35\u001b[0m\n\u001b[0;32m     31\u001b[0m     has_cupy_gpu \u001b[38;5;241m=\u001b[39m \u001b[38;5;28;01mFalse\u001b[39;00m\n\u001b[0;32m     34\u001b[0m \u001b[38;5;28;01mtry\u001b[39;00m:  \u001b[38;5;66;03m# pragma: no cover\u001b[39;00m\n\u001b[1;32m---> 35\u001b[0m     \u001b[38;5;28;01mimport\u001b[39;00m \u001b[38;5;21;01mtorch\u001b[39;00m\n\u001b[0;32m     36\u001b[0m     \u001b[38;5;28;01mimport\u001b[39;00m \u001b[38;5;21;01mtorch\u001b[39;00m\u001b[38;5;21;01m.\u001b[39;00m\u001b[38;5;21;01mutils\u001b[39;00m\u001b[38;5;21;01m.\u001b[39;00m\u001b[38;5;21;01mdlpack\u001b[39;00m\n\u001b[0;32m     38\u001b[0m     has_torch \u001b[38;5;241m=\u001b[39m \u001b[38;5;28;01mTrue\u001b[39;00m\n",
      "File \u001b[1;32m~\\AppData\\Local\\Packages\\PythonSoftwareFoundation.Python.3.12_qbz5n2kfra8p0\\LocalCache\\local-packages\\Python312\\site-packages\\torch\\__init__.py:148\u001b[0m\n\u001b[0;32m    146\u001b[0m                 err \u001b[38;5;241m=\u001b[39m ctypes\u001b[38;5;241m.\u001b[39mWinError(ctypes\u001b[38;5;241m.\u001b[39mget_last_error())\n\u001b[0;32m    147\u001b[0m                 err\u001b[38;5;241m.\u001b[39mstrerror \u001b[38;5;241m+\u001b[39m\u001b[38;5;241m=\u001b[39m \u001b[38;5;124mf\u001b[39m\u001b[38;5;124m'\u001b[39m\u001b[38;5;124m Error loading \u001b[39m\u001b[38;5;124m\"\u001b[39m\u001b[38;5;132;01m{\u001b[39;00mdll\u001b[38;5;132;01m}\u001b[39;00m\u001b[38;5;124m\"\u001b[39m\u001b[38;5;124m or one of its dependencies.\u001b[39m\u001b[38;5;124m'\u001b[39m\n\u001b[1;32m--> 148\u001b[0m                 \u001b[38;5;28;01mraise\u001b[39;00m err\n\u001b[0;32m    150\u001b[0m     kernel32\u001b[38;5;241m.\u001b[39mSetErrorMode(prev_error_mode)\n\u001b[0;32m    153\u001b[0m \u001b[38;5;28;01mdef\u001b[39;00m \u001b[38;5;21m_preload_cuda_deps\u001b[39m(lib_folder, lib_name):\n",
      "\u001b[1;31mOSError\u001b[0m: [WinError 126] The specified module could not be found. Error loading \"C:\\Users\\Razieh\\AppData\\Local\\Packages\\PythonSoftwareFoundation.Python.3.12_qbz5n2kfra8p0\\LocalCache\\local-packages\\Python312\\site-packages\\torch\\lib\\fbgemm.dll\" or one of its dependencies."
     ]
    }
   ],
   "source": [
    "import spacy\n",
    "# Load the spaCy package and use it to parse the text\n",
    "# make sure you have run \"python -m spacy download en\"\n",
    "nlp = spacy.load(\"en_core_web_sm\")\n",
    "doc = nlp(\"Elon Musk offered to buy Twitter using $21B of his own money.\")\n",
    "# Print each entity\n",
    "print(doc.ents)\n",
    "# For each entity print the text and the entity label\n",
    "for entity in doc.ents:\n",
    "    print(entity.text, entity.label_, sep=\",\")"
   ]
  },
  {
   "cell_type": "markdown",
   "id": "c15e1a5e",
   "metadata": {},
   "source": [
    "6.9 Encoding Text as a Bag of Words"
   ]
  },
  {
   "cell_type": "code",
   "execution_count": 18,
   "id": "b3f2a570",
   "metadata": {},
   "outputs": [
    {
     "data": {
      "text/plain": [
       "<Compressed Sparse Row sparse matrix of dtype 'int64'\n",
       "\twith 8 stored elements and shape (3, 8)>"
      ]
     },
     "execution_count": 18,
     "metadata": {},
     "output_type": "execute_result"
    }
   ],
   "source": [
    "# Load library\n",
    "import numpy as np\n",
    "from sklearn.feature_extraction.text import CountVectorizer\n",
    "# Create text\n",
    "text_data = np.array(['I love Brazil. Brazil!',\n",
    "'Sweden is best',\n",
    "'Germany beats both'])\n",
    "# Create the bag of words feature matrix\n",
    "count = CountVectorizer()\n",
    "bag_of_words = count.fit_transform(text_data)\n",
    "# Show feature matrix\n",
    "bag_of_words\n"
   ]
  },
  {
   "cell_type": "code",
   "execution_count": 19,
   "id": "8d8663f5",
   "metadata": {},
   "outputs": [
    {
     "data": {
      "text/plain": [
       "array([[0, 0, 0, 2, 0, 0, 1, 0],\n",
       "       [0, 1, 0, 0, 0, 1, 0, 1],\n",
       "       [1, 0, 1, 0, 1, 0, 0, 0]], dtype=int64)"
      ]
     },
     "execution_count": 19,
     "metadata": {},
     "output_type": "execute_result"
    }
   ],
   "source": [
    "bag_of_words.toarray()"
   ]
  },
  {
   "cell_type": "code",
   "execution_count": 20,
   "id": "12373c4a",
   "metadata": {},
   "outputs": [
    {
     "data": {
      "text/plain": [
       "array(['beats', 'best', 'both', 'brazil', 'germany', 'is', 'love',\n",
       "       'sweden'], dtype=object)"
      ]
     },
     "execution_count": 20,
     "metadata": {},
     "output_type": "execute_result"
    }
   ],
   "source": [
    "# Show feature names\n",
    "count.get_feature_names_out()"
   ]
  },
  {
   "cell_type": "code",
   "execution_count": 21,
   "id": "6ae24bea",
   "metadata": {},
   "outputs": [
    {
     "data": {
      "text/plain": [
       "array([[2],\n",
       "       [0],\n",
       "       [0]], dtype=int64)"
      ]
     },
     "execution_count": 21,
     "metadata": {},
     "output_type": "execute_result"
    }
   ],
   "source": [
    "# Create feature matrix with arguments\n",
    "count_2gram = CountVectorizer(ngram_range=(1,2),\n",
    "stop_words=\"english\",\n",
    "vocabulary=['brazil'])\n",
    "bag = count_2gram.fit_transform(text_data)\n",
    "# View feature matrix\n",
    "bag.toarray()"
   ]
  },
  {
   "cell_type": "code",
   "execution_count": 22,
   "id": "ebb3d07e",
   "metadata": {},
   "outputs": [
    {
     "data": {
      "text/plain": [
       "{'brazil': 0}"
      ]
     },
     "execution_count": 22,
     "metadata": {},
     "output_type": "execute_result"
    }
   ],
   "source": [
    "# View the 1-grams and 2-grams\n",
    "count_2gram.vocabulary_"
   ]
  },
  {
   "cell_type": "code",
   "execution_count": 29,
   "id": "f47e3274",
   "metadata": {},
   "outputs": [
    {
     "data": {
      "text/plain": [
       "<Compressed Sparse Row sparse matrix of dtype 'float64'\n",
       "\twith 8 stored elements and shape (3, 8)>"
      ]
     },
     "execution_count": 29,
     "metadata": {},
     "output_type": "execute_result"
    }
   ],
   "source": [
    "# Load libraries\n",
    "import numpy as np\n",
    "from sklearn.feature_extraction.text import TfidfVectorizer\n",
    "# Create text\n",
    "text_data = np.array(['I love Brazil. Brazil!',\n",
    "'Sweden is best',\n",
    "'Germany beats both'])\n",
    "# Create the tf-idf feature matrix\n",
    "tfidf = TfidfVectorizer()\n",
    "feature_matrix = tfidf.fit_transform(text_data)\n",
    "# Show tf-idf feature matrix\n",
    "feature_matrix"
   ]
  },
  {
   "cell_type": "code",
   "execution_count": null,
   "id": "d56d149d",
   "metadata": {},
   "outputs": [],
   "source": []
  }
 ],
 "metadata": {
  "kernelspec": {
   "display_name": "Python 3",
   "language": "python",
   "name": "python3"
  },
  "language_info": {
   "codemirror_mode": {
    "name": "ipython",
    "version": 3
   },
   "file_extension": ".py",
   "mimetype": "text/x-python",
   "name": "python",
   "nbconvert_exporter": "python",
   "pygments_lexer": "ipython3",
   "version": "3.12.10"
  }
 },
 "nbformat": 4,
 "nbformat_minor": 5
}
