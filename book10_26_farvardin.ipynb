{
 "cells": [
  {
   "cell_type": "markdown",
   "id": "c4e35c8d",
   "metadata": {},
   "source": [
    "Chapter 6. Handling Text"
   ]
  },
  {
   "cell_type": "markdown",
   "id": "a883a16a",
   "metadata": {},
   "source": [
    "6.1 Cleaning Text"
   ]
  },
  {
   "cell_type": "code",
   "execution_count": 35,
   "id": "1b3af0ae",
   "metadata": {},
   "outputs": [
    {
     "data": {
      "text/plain": [
       "['Interrobang. By Aishwarya Henriette',\n",
       " 'Parking And Going. By Karl Gautier',\n",
       " 'Today Is The night. By Jarek Prakash']"
      ]
     },
     "execution_count": 35,
     "metadata": {},
     "output_type": "execute_result"
    }
   ],
   "source": [
    "# Create text\n",
    "text_data = [\" Interrobang. By Aishwarya Henriette \",\n",
    "\"Parking And Going. By Karl Gautier\",\n",
    "\" Today Is The night. By Jarek Prakash \"]\n",
    "# Strip whitespaces\n",
    "strip_whitespace = [string.strip() for string in text_data]\n",
    "# Show text\n",
    "strip_whitespace\n"
   ]
  },
  {
   "cell_type": "code",
   "execution_count": 36,
   "id": "e77a4b87",
   "metadata": {},
   "outputs": [
    {
     "data": {
      "text/plain": [
       "['Interrobang By Aishwarya Henriette',\n",
       " 'Parking And Going By Karl Gautier',\n",
       " 'Today Is The night By Jarek Prakash']"
      ]
     },
     "execution_count": 36,
     "metadata": {},
     "output_type": "execute_result"
    }
   ],
   "source": [
    "# Remove periods\n",
    "remove_periods = [string.replace(\".\", \"\") for string in strip_whitespace]\n",
    "# Show text\n",
    "remove_periods"
   ]
  },
  {
   "cell_type": "code",
   "execution_count": 37,
   "id": "7ac942b0",
   "metadata": {},
   "outputs": [
    {
     "data": {
      "text/plain": [
       "['INTERROBANG BY AISHWARYA HENRIETTE',\n",
       " 'PARKING AND GOING BY KARL GAUTIER',\n",
       " 'TODAY IS THE NIGHT BY JAREK PRAKASH']"
      ]
     },
     "execution_count": 37,
     "metadata": {},
     "output_type": "execute_result"
    }
   ],
   "source": [
    "# Create function\n",
    "def capitalizer(string: str) -> str:\n",
    "    return string.upper()\n",
    "# Apply function\n",
    "[capitalizer(string) for string in remove_periods]"
   ]
  },
  {
   "cell_type": "code",
   "execution_count": 38,
   "id": "d366ba68",
   "metadata": {},
   "outputs": [
    {
     "data": {
      "text/plain": [
       "['XXXXXXXXXXX XX XXXXXXXXX XXXXXXXXX',\n",
       " 'XXXXXXX XXX XXXXX XX XXXX XXXXXXX',\n",
       " 'XXXXX XX XXX XXXXX XX XXXXX XXXXXXX']"
      ]
     },
     "execution_count": 38,
     "metadata": {},
     "output_type": "execute_result"
    }
   ],
   "source": [
    "# Import library\n",
    "import re\n",
    "# Create function\n",
    "def replace_letters_with_X(string: str) -> str:\n",
    "    return re.sub(r\"[a-zA-Z]\", \"X\", string)\n",
    "# Apply function\n",
    "[replace_letters_with_X(string) for string in remove_periods]\n"
   ]
  },
  {
   "cell_type": "code",
   "execution_count": 39,
   "id": "a83425bd",
   "metadata": {},
   "outputs": [
    {
     "data": {
      "text/plain": [
       "5"
      ]
     },
     "execution_count": 39,
     "metadata": {},
     "output_type": "execute_result"
    }
   ],
   "source": [
    "# Define a string\n",
    "s = \"machine learning in python cookbook\"\n",
    "# Find the first index of the letter \"n\"\n",
    "find_n = s.find(\"n\")\n",
    "find_n"
   ]
  },
  {
   "cell_type": "code",
   "execution_count": 40,
   "id": "7313002f",
   "metadata": {},
   "outputs": [
    {
     "data": {
      "text/plain": [
       "True"
      ]
     },
     "execution_count": 40,
     "metadata": {},
     "output_type": "execute_result"
    }
   ],
   "source": [
    "# Whether or not the string starts with \"m\"\n",
    "starts_with_m = s.startswith(\"m\")\n",
    "starts_with_m"
   ]
  },
  {
   "cell_type": "code",
   "execution_count": 41,
   "id": "5e9a54e8",
   "metadata": {},
   "outputs": [
    {
     "data": {
      "text/plain": [
       "False"
      ]
     },
     "execution_count": 41,
     "metadata": {},
     "output_type": "execute_result"
    }
   ],
   "source": [
    "# Whether or not the string ends with \"python\"\n",
    "ends_with_python = s.endswith(\"python\")\n",
    "ends_with_python"
   ]
  },
  {
   "cell_type": "code",
   "execution_count": 42,
   "id": "6838d786",
   "metadata": {},
   "outputs": [
    {
     "data": {
      "text/plain": [
       "False"
      ]
     },
     "execution_count": 42,
     "metadata": {},
     "output_type": "execute_result"
    }
   ],
   "source": [
    "# Is the string alphanumeric\n",
    "is_alnum = s.isalnum()\n",
    "is_alnum"
   ]
  },
  {
   "cell_type": "code",
   "execution_count": 43,
   "id": "e0b7b135",
   "metadata": {},
   "outputs": [
    {
     "data": {
      "text/plain": [
       "False"
      ]
     },
     "execution_count": 43,
     "metadata": {},
     "output_type": "execute_result"
    }
   ],
   "source": [
    "# Is it composed of only alphabetical characters (not including spaces)\n",
    "is_alpha = s.isalpha()\n",
    "is_alpha"
   ]
  },
  {
   "cell_type": "code",
   "execution_count": 44,
   "id": "9266c90c",
   "metadata": {},
   "outputs": [
    {
     "data": {
      "text/plain": [
       "b'machine learning in python cookbook'"
      ]
     },
     "execution_count": 44,
     "metadata": {},
     "output_type": "execute_result"
    }
   ],
   "source": [
    "# Encode as utf-8\n",
    "encode_as_utf8 = s.encode(\"utf-8\")\n",
    "encode_as_utf8"
   ]
  },
  {
   "cell_type": "code",
   "execution_count": 45,
   "id": "00027659",
   "metadata": {},
   "outputs": [],
   "source": [
    "# Decode the same utf-8\n",
    "decode = encode_as_utf8.decode(\"utf-8\")"
   ]
  },
  {
   "cell_type": "markdown",
   "id": "4faa2b52",
   "metadata": {},
   "source": [
    "6.3 Removing Punctuation"
   ]
  },
  {
   "cell_type": "code",
   "execution_count": 46,
   "id": "fe474bee",
   "metadata": {},
   "outputs": [],
   "source": [
    "# Load libraries\n",
    "import unicodedata\n",
    "import sys\n",
    "# Create text\n",
    "text_data = ['Hi!!!! I. Love. This. Song....',\n",
    "'10000% Agree!!!! #LoveIT',\n",
    "'Right?!?!']\n",
    "# Create a dictionary of punctuation characters\n",
    "punctuation = dict.fromkeys(\n",
    "(i for i in range(sys.maxunicode)\n",
    "if unicodedata.category(chr(i)).startswith('P')\n",
    "),\n",
    "None\n",
    ")\n",
    "# For each string, remove any punctuation characters\n"
   ]
  },
  {
   "cell_type": "code",
   "execution_count": 47,
   "id": "0678d359",
   "metadata": {},
   "outputs": [
    {
     "data": {
      "text/plain": [
       "{'water': 'آب', 'tea': 'چای'}"
      ]
     },
     "execution_count": 47,
     "metadata": {},
     "output_type": "execute_result"
    }
   ],
   "source": [
    "dict1={'water':'آب','tea':'چای'}\n",
    "dict1"
   ]
  },
  {
   "cell_type": "code",
   "execution_count": 48,
   "id": "4c32df24",
   "metadata": {},
   "outputs": [
    {
     "name": "stdout",
     "output_type": "stream",
     "text": [
      "آب چای\n"
     ]
    }
   ],
   "source": [
    "s = 'water tea'\n",
    "translated = ' '.join([dict1[word] for word in s.split()])\n",
    "print(translated)"
   ]
  },
  {
   "cell_type": "markdown",
   "id": "9c1f9c7f",
   "metadata": {},
   "source": [
    "6.4 Tokenizing Text"
   ]
  },
  {
   "cell_type": "code",
   "execution_count": 73,
   "id": "315f5397",
   "metadata": {},
   "outputs": [
    {
     "name": "stdout",
     "output_type": "stream",
     "text": [
      "Defaulting to user installation because normal site-packages is not writeable\n",
      "Requirement already satisfied: nltk in c:\\users\\razieh\\appdata\\local\\packages\\pythonsoftwarefoundation.python.3.12_qbz5n2kfra8p0\\localcache\\local-packages\\python312\\site-packages (3.9.1)\n",
      "Requirement already satisfied: click in c:\\users\\razieh\\appdata\\local\\packages\\pythonsoftwarefoundation.python.3.12_qbz5n2kfra8p0\\localcache\\local-packages\\python312\\site-packages (from nltk) (8.1.8)\n",
      "Requirement already satisfied: joblib in c:\\users\\razieh\\appdata\\local\\packages\\pythonsoftwarefoundation.python.3.12_qbz5n2kfra8p0\\localcache\\local-packages\\python312\\site-packages (from nltk) (1.4.2)\n",
      "Requirement already satisfied: regex>=2021.8.3 in c:\\users\\razieh\\appdata\\local\\packages\\pythonsoftwarefoundation.python.3.12_qbz5n2kfra8p0\\localcache\\local-packages\\python312\\site-packages (from nltk) (2024.11.6)\n",
      "Requirement already satisfied: tqdm in c:\\users\\razieh\\appdata\\local\\packages\\pythonsoftwarefoundation.python.3.12_qbz5n2kfra8p0\\localcache\\local-packages\\python312\\site-packages (from nltk) (4.67.1)\n",
      "Requirement already satisfied: colorama in c:\\users\\razieh\\appdata\\local\\packages\\pythonsoftwarefoundation.python.3.12_qbz5n2kfra8p0\\localcache\\local-packages\\python312\\site-packages (from click->nltk) (0.4.6)\n"
     ]
    }
   ],
   "source": [
    "! pip install nltk"
   ]
  },
  {
   "cell_type": "code",
   "execution_count": 76,
   "id": "dc51f091",
   "metadata": {},
   "outputs": [
    {
     "name": "stderr",
     "output_type": "stream",
     "text": [
      "[nltk_data] Downloading package stopwords to\n",
      "[nltk_data]     C:\\Users\\Razieh\\AppData\\Roaming\\nltk_data...\n",
      "[nltk_data]   Package stopwords is already up-to-date!\n",
      "[nltk_data] Downloading package punkt_tab to\n",
      "[nltk_data]     C:\\Users\\Razieh\\AppData\\Roaming\\nltk_data...\n",
      "[nltk_data]   Unzipping tokenizers\\punkt_tab.zip.\n"
     ]
    },
    {
     "data": {
      "text/plain": [
       "True"
      ]
     },
     "execution_count": 76,
     "metadata": {},
     "output_type": "execute_result"
    }
   ],
   "source": [
    "import nltk\n",
    "nltk.download('stopwords')\n",
    "nltk.download('punkt_tab')"
   ]
  },
  {
   "cell_type": "code",
   "execution_count": 77,
   "id": "3aa5e9dc",
   "metadata": {},
   "outputs": [
    {
     "data": {
      "text/plain": [
       "['The', 'science', 'of', 'today', 'is', 'the', 'technology', 'of', 'tomorrow']"
      ]
     },
     "execution_count": 77,
     "metadata": {},
     "output_type": "execute_result"
    }
   ],
   "source": [
    "# Load library\n",
    "from nltk.tokenize import word_tokenize\n",
    "# Create text\n",
    "string = \"The science of today is the technology of tomorrow\"\n",
    "# Tokenize words\n",
    "word_tokenize(string)"
   ]
  },
  {
   "cell_type": "code",
   "execution_count": 78,
   "id": "b00b8f67",
   "metadata": {},
   "outputs": [
    {
     "data": {
      "text/plain": [
       "['The science of today is the technology of tomorrow.', 'Tomorrow is today.']"
      ]
     },
     "execution_count": 78,
     "metadata": {},
     "output_type": "execute_result"
    }
   ],
   "source": [
    "# Load library\n",
    "from nltk.tokenize import sent_tokenize\n",
    "# Create text\n",
    "string = \"The science of today is the technology of tomorrow. Tomorrow is today.\"\n",
    "# Tokenize sentences\n",
    "sent_tokenize(string)\n"
   ]
  },
  {
   "cell_type": "code",
   "execution_count": 65,
   "id": "44dead1a",
   "metadata": {},
   "outputs": [],
   "source": [
    "import nltk\n",
    "nltk.data.path.append('\"C:\\\\Users\\\\Razieh\\\\nltk_data')  # مسیر را بسته به سیستم خود تغییر دهید\n"
   ]
  },
  {
   "cell_type": "markdown",
   "id": "14f3adaf",
   "metadata": {},
   "source": [
    "6.5 Removing Stop Words"
   ]
  },
  {
   "cell_type": "code",
   "execution_count": 66,
   "id": "9cb63740",
   "metadata": {},
   "outputs": [
    {
     "data": {
      "text/plain": [
       "['going', 'go', 'store', 'park']"
      ]
     },
     "execution_count": 66,
     "metadata": {},
     "output_type": "execute_result"
    }
   ],
   "source": [
    "# Load library\n",
    "from nltk.corpus import stopwords\n",
    "# You will have to download the set of stop words the first time\n",
    "# import nltk\n",
    "# nltk.download('stopwords')\n",
    "# Create word tokens\n",
    "tokenized_words = ['i',\n",
    "'am',\n",
    "'going',\n",
    "'to',\n",
    "'go',\n",
    "'to',\n",
    "'the',\n",
    "'store',\n",
    "'and',\n",
    "'park']\n",
    "# Load stop words\n",
    "stop_words = stopwords.words('english')\n",
    "# Remove stop words\n",
    "[word for word in tokenized_words if word not in stop_words]\n"
   ]
  },
  {
   "cell_type": "code",
   "execution_count": 68,
   "id": "0902c0c4",
   "metadata": {},
   "outputs": [
    {
     "data": {
      "text/plain": [
       "['a', 'about', 'above', 'after', 'again']"
      ]
     },
     "execution_count": 68,
     "metadata": {},
     "output_type": "execute_result"
    }
   ],
   "source": [
    "# Show stop words\n",
    "stop_words[:5]\n"
   ]
  },
  {
   "cell_type": "markdown",
   "id": "0c7bc86d",
   "metadata": {},
   "source": [
    "6.6 Stemming Words"
   ]
  },
  {
   "cell_type": "code",
   "execution_count": 69,
   "id": "4fc9a13f",
   "metadata": {},
   "outputs": [
    {
     "data": {
      "text/plain": [
       "['i', 'am', 'humbl', 'by', 'thi', 'tradit', 'meet']"
      ]
     },
     "execution_count": 69,
     "metadata": {},
     "output_type": "execute_result"
    }
   ],
   "source": [
    "# Load library\n",
    "from nltk.stem.porter import PorterStemmer\n",
    "# Create word tokens\n",
    "tokenized_words = ['i', 'am', 'humbled', 'by', 'this', 'traditional', 'meeting']\n",
    "# Create stemmer\n",
    "porter = PorterStemmer()\n",
    "# Apply stemmer\n",
    "[porter.stem(word) for word in tokenized_words]"
   ]
  },
  {
   "cell_type": "code",
   "execution_count": null,
   "id": "12c39ed2",
   "metadata": {},
   "outputs": [],
   "source": []
  }
 ],
 "metadata": {
  "kernelspec": {
   "display_name": "Python 3",
   "language": "python",
   "name": "python3"
  },
  "language_info": {
   "codemirror_mode": {
    "name": "ipython",
    "version": 3
   },
   "file_extension": ".py",
   "mimetype": "text/x-python",
   "name": "python",
   "nbconvert_exporter": "python",
   "pygments_lexer": "ipython3",
   "version": "3.12.10"
  }
 },
 "nbformat": 4,
 "nbformat_minor": 5
}
