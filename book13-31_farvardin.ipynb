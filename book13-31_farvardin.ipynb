{
 "cells": [
  {
   "cell_type": "markdown",
   "id": "1c0ee543",
   "metadata": {},
   "source": [
    "Chapter 13. Linear Regression"
   ]
  },
  {
   "cell_type": "markdown",
   "id": "6b55abf4",
   "metadata": {},
   "source": [
    "13.1 Fitting a Line"
   ]
  },
  {
   "cell_type": "code",
   "execution_count": 1,
   "id": "2515da40",
   "metadata": {},
   "outputs": [],
   "source": [
    "# Load libraries\n",
    "from sklearn.linear_model import LinearRegression\n",
    "from sklearn.datasets import make_regression\n",
    "# Generate features matrix, target vector\n",
    "features, target = make_regression(n_samples = 100,\n",
    "n_features = 3,\n",
    "n_informative = 2,\n",
    "n_targets = 1,\n",
    "noise = 0.2,\n",
    "coef = False,\n",
    "random_state = 1)\n",
    "# Create linear regression\n",
    "regression = LinearRegression()\n",
    "# Fit the linear regression\n",
    "model = regression.fit(features, target)"
   ]
  },
  {
   "cell_type": "code",
   "execution_count": 3,
   "id": "050fb173",
   "metadata": {},
   "outputs": [
    {
     "data": {
      "text/plain": [
       "np.float64(-0.00965011817881578)"
      ]
     },
     "execution_count": 3,
     "metadata": {},
     "output_type": "execute_result"
    }
   ],
   "source": [
    "# View the intercept\n",
    "model.intercept_\n"
   ]
  },
  {
   "cell_type": "markdown",
   "id": "b4d21449",
   "metadata": {},
   "source": [
    "# View the feature coefficients\n",
    "model.coef_\n"
   ]
  },
  {
   "cell_type": "code",
   "execution_count": 4,
   "id": "f07c44b7",
   "metadata": {},
   "outputs": [
    {
     "data": {
      "text/plain": [
       "np.float64(-20.870747595269407)"
      ]
     },
     "execution_count": 4,
     "metadata": {},
     "output_type": "execute_result"
    }
   ],
   "source": [
    "# First value in the target vector\n",
    "target[0]"
   ]
  },
  {
   "cell_type": "code",
   "execution_count": 5,
   "id": "17bcb085",
   "metadata": {},
   "outputs": [
    {
     "data": {
      "text/plain": [
       "np.float64(-20.86192770929682)"
      ]
     },
     "execution_count": 5,
     "metadata": {},
     "output_type": "execute_result"
    }
   ],
   "source": [
    "# Predict the target value of the first observation\n",
    "model.predict(features)[0]"
   ]
  },
  {
   "cell_type": "markdown",
   "id": "1d1dca2c",
   "metadata": {},
   "source": [
    "13.2 Handling Interactive Effects"
   ]
  },
  {
   "cell_type": "code",
   "execution_count": 6,
   "id": "bf2d7c32",
   "metadata": {},
   "outputs": [],
   "source": [
    "# Load libraries\n",
    "from sklearn.linear_model import LinearRegression\n",
    "from sklearn.preprocessing import PolynomialFeatures\n",
    "from sklearn.datasets import make_regression\n",
    "# Generate features matrix, target vector\n",
    "features, target = make_regression(n_samples = 100,\n",
    "n_features = 2,\n",
    "n_informative = 2,\n",
    "n_targets = 1,\n",
    "noise = 0.2,\n",
    "coef = False,\n",
    "random_state = 1)\n",
    "# Create interaction term\n",
    "interaction = PolynomialFeatures(\n",
    "degree=3, include_bias=False, interaction_only=True)\n",
    "features_interaction = interaction.fit_transform(features)\n",
    "# Create linear regression\n",
    "regression = LinearRegression()\n",
    "# Fit the linear regression\n",
    "model = regression.fit(features_interaction, target)\n"
   ]
  },
  {
   "cell_type": "code",
   "execution_count": 7,
   "id": "1488b580",
   "metadata": {},
   "outputs": [
    {
     "data": {
      "text/plain": [
       "array([0.0465673 , 0.80186103])"
      ]
     },
     "execution_count": 7,
     "metadata": {},
     "output_type": "execute_result"
    }
   ],
   "source": [
    "# View the feature values for first observation\n",
    "features[0]\n"
   ]
  },
  {
   "cell_type": "code",
   "execution_count": 8,
   "id": "1828b0da",
   "metadata": {},
   "outputs": [],
   "source": [
    "# Import library\n",
    "import numpy as np\n",
    "# For each observation, multiply the values of the first and second feature\n",
    "interaction_term = np.multiply(features[:, 0], features[:, 1])\n"
   ]
  },
  {
   "cell_type": "code",
   "execution_count": 9,
   "id": "1e36d088",
   "metadata": {},
   "outputs": [
    {
     "data": {
      "text/plain": [
       "np.float64(0.037340501965846186)"
      ]
     },
     "execution_count": 9,
     "metadata": {},
     "output_type": "execute_result"
    }
   ],
   "source": [
    "# View interaction term for first observation\n",
    "interaction_term[0]"
   ]
  },
  {
   "cell_type": "markdown",
   "id": "e751b135",
   "metadata": {},
   "source": [
    "13.3 Fitting a Nonlinear Relationship"
   ]
  },
  {
   "cell_type": "code",
   "execution_count": 10,
   "id": "30cc2597",
   "metadata": {},
   "outputs": [],
   "source": [
    "from sklearn.linear_model import LinearRegression\n",
    "from sklearn.preprocessing import PolynomialFeatures\n",
    "from sklearn.datasets import make_regression\n",
    "# Generate features matrix, target vector\n",
    "features, target = make_regression(n_samples = 100,\n",
    "n_features = 3,\n",
    "n_informative = 2,\n",
    "n_targets = 1,\n",
    "noise = 0.2,\n",
    "coef = False,\n",
    "random_state = 1)\n",
    "# Create polynomial features x^2 and x^3\n",
    "polynomial = PolynomialFeatures(degree=3, include_bias=False)\n",
    "features_polynomial = polynomial.fit_transform(features)\n",
    "# Create linear regression\n",
    "regression = LinearRegression()\n",
    "# Fit the linear regression\n",
    "model = regression.fit(features_polynomial, target)"
   ]
  },
  {
   "cell_type": "code",
   "execution_count": 11,
   "id": "c6464fb8",
   "metadata": {},
   "outputs": [
    {
     "data": {
      "text/plain": [
       "array([ 0.58591043,  0.78477065, -0.95542526])"
      ]
     },
     "execution_count": 11,
     "metadata": {},
     "output_type": "execute_result"
    }
   ],
   "source": [
    "# View first observation\n",
    "features[0]"
   ]
  },
  {
   "cell_type": "code",
   "execution_count": 12,
   "id": "215c007c",
   "metadata": {},
   "outputs": [
    {
     "data": {
      "text/plain": [
       "array([0.34329103, 0.61586497, 0.91283743])"
      ]
     },
     "execution_count": 12,
     "metadata": {},
     "output_type": "execute_result"
    }
   ],
   "source": [
    "# View first observation raised to the second power, x^2\n",
    "features[0]**2\n"
   ]
  },
  {
   "cell_type": "code",
   "execution_count": 13,
   "id": "124a1dc9",
   "metadata": {},
   "outputs": [
    {
     "data": {
      "text/plain": [
       "array([ 0.2011378 ,  0.48331276, -0.87214794])"
      ]
     },
     "execution_count": 13,
     "metadata": {},
     "output_type": "execute_result"
    }
   ],
   "source": [
    "# View first observation raised to the third power, x^3\n",
    "features[0]**3"
   ]
  },
  {
   "cell_type": "code",
   "execution_count": 14,
   "id": "e733bf73",
   "metadata": {},
   "outputs": [
    {
     "data": {
      "text/plain": [
       "array([ 0.58591043,  0.78477065, -0.95542526,  0.34329103,  0.45980531,\n",
       "       -0.55979363,  0.61586497, -0.74978971,  0.91283743,  0.2011378 ,\n",
       "        0.26940473, -0.32798893,  0.36084171, -0.43930961,  0.53484097,\n",
       "        0.48331276, -0.58841296,  0.71636803, -0.87214794])"
      ]
     },
     "execution_count": 14,
     "metadata": {},
     "output_type": "execute_result"
    }
   ],
   "source": [
    "# View the first observation's values for x, x^2, and x^3\n",
    "features_polynomial[0]\n"
   ]
  },
  {
   "cell_type": "markdown",
   "id": "ce274d0a",
   "metadata": {},
   "source": [
    "13.4 Reducing Variance with Regularization"
   ]
  },
  {
   "cell_type": "code",
   "execution_count": 15,
   "id": "b8efd893",
   "metadata": {},
   "outputs": [],
   "source": [
    "# Load libraries\n",
    "from sklearn.linear_model import Ridge\n",
    "from sklearn.preprocessing import StandardScaler\n",
    "from sklearn.datasets import make_regression\n",
    "# Generate features matrix, target vector\n",
    "features, target = make_regression(n_samples = 100,\n",
    "n_features = 3,\n",
    "n_informative = 2,\n",
    "n_targets = 1,\n",
    "noise = 0.2,\n",
    "coef = False,\n",
    "random_state = 1)\n",
    "# Standardize features\n",
    "scaler = StandardScaler()\n",
    "features_standardized = scaler.fit_transform(features)\n",
    "# Create ridge regression with an alpha value\n",
    "regression = Ridge(alpha=0.5)\n",
    "# Fit the linear regression\n",
    "\n",
    "model = regression.fit(features_standardized, target)"
   ]
  },
  {
   "cell_type": "code",
   "execution_count": 16,
   "id": "7bcf2c99",
   "metadata": {},
   "outputs": [
    {
     "data": {
      "text/plain": [
       "array([1.29223201e-02, 4.40972291e+01, 5.38979372e+01])"
      ]
     },
     "execution_count": 16,
     "metadata": {},
     "output_type": "execute_result"
    }
   ],
   "source": [
    "# Load library\n",
    "from sklearn.linear_model import RidgeCV\n",
    "# Create ridge regression with three alpha values\n",
    "regr_cv = RidgeCV(alphas=[0.1, 1.0, 10.0])\n",
    "# Fit the linear regression\n",
    "model_cv = regr_cv.fit(features_standardized, target)\n",
    "# View coefficients\n",
    "\n",
    "model_cv.coef_"
   ]
  },
  {
   "cell_type": "code",
   "execution_count": 17,
   "id": "70685273",
   "metadata": {},
   "outputs": [
    {
     "data": {
      "text/plain": [
       "np.float64(0.1)"
      ]
     },
     "execution_count": 17,
     "metadata": {},
     "output_type": "execute_result"
    }
   ],
   "source": [
    "# View alpha\n",
    "\n",
    "model_cv.alpha_"
   ]
  },
  {
   "cell_type": "markdown",
   "id": "9f94ddc4",
   "metadata": {},
   "source": [
    "13.5 Reducing Features with Lasso Regression"
   ]
  },
  {
   "cell_type": "code",
   "execution_count": 18,
   "id": "e247f73b",
   "metadata": {},
   "outputs": [],
   "source": [
    "# Load library\n",
    "from sklearn.linear_model import Lasso\n",
    "from sklearn.preprocessing import StandardScaler\n",
    "from sklearn.datasets import make_regression\n",
    "# Generate features matrix, target vector\n",
    "features, target = make_regression(n_samples = 100,\n",
    "n_features = 3,\n",
    "n_informative = 2,\n",
    "n_targets = 1,\n",
    "noise = 0.2,\n",
    "coef = False,\n",
    "random_state = 1)\n",
    "# Standardize features\n",
    "scaler = StandardScaler()\n",
    "features_standardized = scaler.fit_transform(features)\n",
    "# Create lasso regression with alpha value\n",
    "regression = Lasso(alpha=0.5)\n",
    "# Fit the linear regression\n",
    "model = regression.fit(features_standardized, target)"
   ]
  },
  {
   "cell_type": "code",
   "execution_count": 19,
   "id": "2540b8f9",
   "metadata": {},
   "outputs": [
    {
     "data": {
      "text/plain": [
       "array([-0.        , 43.58618393, 53.39523724])"
      ]
     },
     "execution_count": 19,
     "metadata": {},
     "output_type": "execute_result"
    }
   ],
   "source": [
    "# View coefficients\n",
    "model.coef_\n"
   ]
  },
  {
   "cell_type": "code",
   "execution_count": 20,
   "id": "5ab7354e",
   "metadata": {},
   "outputs": [
    {
     "data": {
      "text/plain": [
       "array([-0.        , 32.92181899, 42.73086731])"
      ]
     },
     "execution_count": 20,
     "metadata": {},
     "output_type": "execute_result"
    }
   ],
   "source": [
    "# Create lasso regression with a high alpha\n",
    "regression_a10 = Lasso(alpha=10)\n",
    "model_a10 = regression_a10.fit(features_standardized, target)\n",
    "model_a10.coef_\n"
   ]
  },
  {
   "cell_type": "code",
   "execution_count": null,
   "id": "c72c2949",
   "metadata": {},
   "outputs": [],
   "source": []
  }
 ],
 "metadata": {
  "kernelspec": {
   "display_name": "Python 3",
   "language": "python",
   "name": "python3"
  },
  "language_info": {
   "codemirror_mode": {
    "name": "ipython",
    "version": 3
   },
   "file_extension": ".py",
   "mimetype": "text/x-python",
   "name": "python",
   "nbconvert_exporter": "python",
   "pygments_lexer": "ipython3",
   "version": "3.12.10"
  }
 },
 "nbformat": 4,
 "nbformat_minor": 5
}
